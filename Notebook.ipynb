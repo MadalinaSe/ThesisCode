{
 "cells": [
  {
   "cell_type": "markdown",
   "id": "5df53b14",
   "metadata": {},
   "source": [
    "# Import libraries"
   ]
  },
  {
   "cell_type": "code",
   "execution_count": 232,
   "id": "03ef8d2c",
   "metadata": {},
   "outputs": [],
   "source": [
    "import numpy as np\n",
    "import pandas as pd \n",
    "from datetime import datetime\n",
    "import matplotlib.pyplot as plt\n",
    "import seaborn as sns\n",
    "from collections import Counter\n",
    "\n",
    "from sklearn.metrics import f1_score, recall_score, confusion_matrix, classification_report, precision_recall_curve\n",
    "\n",
    "from sklearn.tree import DecisionTreeClassifier\n",
    "from sklearn.linear_model import LogisticRegression\n",
    "from sklearn.ensemble import RandomForestClassifier, AdaBoostClassifier\n",
    "from sklearn.svm import SVC\n",
    "from sklearn.neighbors import KNeighborsClassifier\n",
    "from sklearn.preprocessing import PolynomialFeatures, StandardScaler\n",
    "from sklearn.pipeline import make_pipeline\n",
    "from sklearn.feature_selection import SelectKBest, f_classif"
   ]
  },
  {
   "cell_type": "markdown",
   "id": "ce4019e4",
   "metadata": {},
   "source": []
  },
  {
   "cell_type": "markdown",
   "id": "4c266def",
   "metadata": {},
   "source": [
    "# Load Dataset"
   ]
  },
  {
   "cell_type": "code",
   "execution_count": 233,
   "id": "5bde3551",
   "metadata": {},
   "outputs": [],
   "source": [
    "data = pd.read_excel(r\"C:\\Users\\320118090\\Desktop\\School\\Thesis\\Data\\Renewed(v1).xlsx\")"
   ]
  },
  {
   "cell_type": "markdown",
   "id": "22bf6933",
   "metadata": {},
   "source": []
  },
  {
   "cell_type": "markdown",
   "id": "c926df04",
   "metadata": {},
   "source": [
    "# Data Exploration and Cleaning"
   ]
  },
  {
   "cell_type": "code",
   "execution_count": 234,
   "id": "83472108",
   "metadata": {},
   "outputs": [
    {
     "data": {
      "text/html": [
       "<div>\n",
       "<style scoped>\n",
       "    .dataframe tbody tr th:only-of-type {\n",
       "        vertical-align: middle;\n",
       "    }\n",
       "\n",
       "    .dataframe tbody tr th {\n",
       "        vertical-align: top;\n",
       "    }\n",
       "\n",
       "    .dataframe thead th {\n",
       "        text-align: right;\n",
       "    }\n",
       "</style>\n",
       "<table border=\"1\" class=\"dataframe\">\n",
       "  <thead>\n",
       "    <tr style=\"text-align: right;\">\n",
       "      <th></th>\n",
       "      <th>SoldTo</th>\n",
       "      <th>iCon Account ID</th>\n",
       "      <th>iCon Market</th>\n",
       "      <th>BG</th>\n",
       "      <th>Contract Classification</th>\n",
       "      <th>Contract Date</th>\n",
       "      <th>ContractYear</th>\n",
       "      <th>Start Date</th>\n",
       "      <th>End Date</th>\n",
       "      <th>Tenure</th>\n",
       "      <th>...</th>\n",
       "      <th>Renewal Count</th>\n",
       "      <th># Contracts Warranty Converted</th>\n",
       "      <th>Total Warranty Contracts</th>\n",
       "      <th># Contracts Extended Warranty Converted</th>\n",
       "      <th>Total Extended Warranty Contracts</th>\n",
       "      <th>Renewed</th>\n",
       "      <th>Net Value LC</th>\n",
       "      <th>Net Value EUR</th>\n",
       "      <th>Annualized Net Value LC</th>\n",
       "      <th>Annualized Net Value EUR</th>\n",
       "    </tr>\n",
       "  </thead>\n",
       "  <tbody>\n",
       "    <tr>\n",
       "      <th>0</th>\n",
       "      <td>9448217</td>\n",
       "      <td>20604;588</td>\n",
       "      <td>LATAM</td>\n",
       "      <td>TC</td>\n",
       "      <td>Warranty</td>\n",
       "      <td>2020-06-15 00:00:00</td>\n",
       "      <td>2020.0</td>\n",
       "      <td>2020-05-06</td>\n",
       "      <td>2021-08-05</td>\n",
       "      <td>14.0</td>\n",
       "      <td>...</td>\n",
       "      <td>0</td>\n",
       "      <td>0</td>\n",
       "      <td>1</td>\n",
       "      <td>0</td>\n",
       "      <td>0</td>\n",
       "      <td>0</td>\n",
       "      <td>0.0</td>\n",
       "      <td>0.0</td>\n",
       "      <td>0.0</td>\n",
       "      <td>0.0</td>\n",
       "    </tr>\n",
       "    <tr>\n",
       "      <th>1</th>\n",
       "      <td>94264827</td>\n",
       "      <td>12868;158430;285</td>\n",
       "      <td>DACH</td>\n",
       "      <td>TC</td>\n",
       "      <td>Warranty</td>\n",
       "      <td>2014-01-14 00:00:00</td>\n",
       "      <td>2014.0</td>\n",
       "      <td>2013-12-12</td>\n",
       "      <td>2021-12-11</td>\n",
       "      <td>95.0</td>\n",
       "      <td>...</td>\n",
       "      <td>0</td>\n",
       "      <td>0</td>\n",
       "      <td>1</td>\n",
       "      <td>0</td>\n",
       "      <td>0</td>\n",
       "      <td>0</td>\n",
       "      <td>0.0</td>\n",
       "      <td>0.0</td>\n",
       "      <td>0.0</td>\n",
       "      <td>0.0</td>\n",
       "    </tr>\n",
       "    <tr>\n",
       "      <th>2</th>\n",
       "      <td>94264827</td>\n",
       "      <td>12868;158430;285</td>\n",
       "      <td>UKI</td>\n",
       "      <td>TC</td>\n",
       "      <td>Warranty</td>\n",
       "      <td>2014-01-14 00:00:00</td>\n",
       "      <td>2014.0</td>\n",
       "      <td>2013-12-12</td>\n",
       "      <td>2021-12-11</td>\n",
       "      <td>95.0</td>\n",
       "      <td>...</td>\n",
       "      <td>0</td>\n",
       "      <td>0</td>\n",
       "      <td>1</td>\n",
       "      <td>0</td>\n",
       "      <td>0</td>\n",
       "      <td>0</td>\n",
       "      <td>0.0</td>\n",
       "      <td>0.0</td>\n",
       "      <td>0.0</td>\n",
       "      <td>0.0</td>\n",
       "    </tr>\n",
       "    <tr>\n",
       "      <th>3</th>\n",
       "      <td>9493951</td>\n",
       "      <td>288</td>\n",
       "      <td>DACH</td>\n",
       "      <td>TC</td>\n",
       "      <td>Warranty</td>\n",
       "      <td>2013-05-28 00:00:00</td>\n",
       "      <td>2013.0</td>\n",
       "      <td>2013-01-09</td>\n",
       "      <td>2021-01-08</td>\n",
       "      <td>95.0</td>\n",
       "      <td>...</td>\n",
       "      <td>0</td>\n",
       "      <td>0</td>\n",
       "      <td>1</td>\n",
       "      <td>0</td>\n",
       "      <td>0</td>\n",
       "      <td>0</td>\n",
       "      <td>0.0</td>\n",
       "      <td>0.0</td>\n",
       "      <td>0.0</td>\n",
       "      <td>0.0</td>\n",
       "    </tr>\n",
       "    <tr>\n",
       "      <th>4</th>\n",
       "      <td>9499108</td>\n",
       "      <td>258</td>\n",
       "      <td>UKI</td>\n",
       "      <td>TC</td>\n",
       "      <td>Warranty</td>\n",
       "      <td>2013-03-12 00:00:00</td>\n",
       "      <td>2013.0</td>\n",
       "      <td>2013-02-04</td>\n",
       "      <td>2021-02-03</td>\n",
       "      <td>95.0</td>\n",
       "      <td>...</td>\n",
       "      <td>0</td>\n",
       "      <td>0</td>\n",
       "      <td>1</td>\n",
       "      <td>0</td>\n",
       "      <td>0</td>\n",
       "      <td>0</td>\n",
       "      <td>0.0</td>\n",
       "      <td>0.0</td>\n",
       "      <td>0.0</td>\n",
       "      <td>0.0</td>\n",
       "    </tr>\n",
       "  </tbody>\n",
       "</table>\n",
       "<p>5 rows × 26 columns</p>\n",
       "</div>"
      ],
      "text/plain": [
       "     SoldTo   iCon Account ID iCon Market  BG Contract Classification  \\\n",
       "0   9448217         20604;588       LATAM  TC                Warranty   \n",
       "1  94264827  12868;158430;285        DACH  TC                Warranty   \n",
       "2  94264827  12868;158430;285         UKI  TC                Warranty   \n",
       "3   9493951               288        DACH  TC                Warranty   \n",
       "4   9499108               258         UKI  TC                Warranty   \n",
       "\n",
       "         Contract Date  ContractYear Start Date   End Date  Tenure  ...  \\\n",
       "0  2020-06-15 00:00:00        2020.0 2020-05-06 2021-08-05    14.0  ...   \n",
       "1  2014-01-14 00:00:00        2014.0 2013-12-12 2021-12-11    95.0  ...   \n",
       "2  2014-01-14 00:00:00        2014.0 2013-12-12 2021-12-11    95.0  ...   \n",
       "3  2013-05-28 00:00:00        2013.0 2013-01-09 2021-01-08    95.0  ...   \n",
       "4  2013-03-12 00:00:00        2013.0 2013-02-04 2021-02-03    95.0  ...   \n",
       "\n",
       "   Renewal Count  # Contracts Warranty Converted  Total Warranty Contracts  \\\n",
       "0              0                               0                         1   \n",
       "1              0                               0                         1   \n",
       "2              0                               0                         1   \n",
       "3              0                               0                         1   \n",
       "4              0                               0                         1   \n",
       "\n",
       "   # Contracts Extended Warranty Converted  Total Extended Warranty Contracts  \\\n",
       "0                                        0                                  0   \n",
       "1                                        0                                  0   \n",
       "2                                        0                                  0   \n",
       "3                                        0                                  0   \n",
       "4                                        0                                  0   \n",
       "\n",
       "   Renewed  Net Value LC  Net Value EUR  Annualized Net Value LC  \\\n",
       "0        0           0.0            0.0                      0.0   \n",
       "1        0           0.0            0.0                      0.0   \n",
       "2        0           0.0            0.0                      0.0   \n",
       "3        0           0.0            0.0                      0.0   \n",
       "4        0           0.0            0.0                      0.0   \n",
       "\n",
       "   Annualized Net Value EUR  \n",
       "0                       0.0  \n",
       "1                       0.0  \n",
       "2                       0.0  \n",
       "3                       0.0  \n",
       "4                       0.0  \n",
       "\n",
       "[5 rows x 26 columns]"
      ]
     },
     "execution_count": 234,
     "metadata": {},
     "output_type": "execute_result"
    }
   ],
   "source": [
    "data.head()"
   ]
  },
  {
   "cell_type": "code",
   "execution_count": 235,
   "id": "eca73d90",
   "metadata": {},
   "outputs": [
    {
     "data": {
      "text/plain": [
       "SoldTo                                              int64\n",
       "iCon Account ID                                    object\n",
       "iCon Market                                        object\n",
       "BG                                                 object\n",
       "Contract Classification                            object\n",
       "Contract Date                                      object\n",
       "ContractYear                                      float64\n",
       "Start Date                                 datetime64[ns]\n",
       "End Date                                   datetime64[ns]\n",
       "Tenure                                            float64\n",
       "Contract End Year                                   int64\n",
       "Total Contract Count                                int64\n",
       "Total Warranty Count                                int64\n",
       "Warranty Conversion Count                           int64\n",
       "Extended Warranty Conversion Count                  int64\n",
       "Total Extended Warranty Count                       int64\n",
       "Renewal Count                                       int64\n",
       "# Contracts Warranty Converted                      int64\n",
       "Total Warranty Contracts                            int64\n",
       "# Contracts Extended Warranty Converted             int64\n",
       "Total Extended Warranty Contracts                   int64\n",
       "Renewed                                             int64\n",
       "Net Value LC                                      float64\n",
       "Net Value EUR                                     float64\n",
       "Annualized Net Value LC                           float64\n",
       "Annualized Net Value EUR                          float64\n",
       "dtype: object"
      ]
     },
     "execution_count": 235,
     "metadata": {},
     "output_type": "execute_result"
    }
   ],
   "source": [
    "data.dtypes"
   ]
  },
  {
   "cell_type": "code",
   "execution_count": 236,
   "id": "80f1c771",
   "metadata": {},
   "outputs": [
    {
     "data": {
      "text/html": [
       "<div>\n",
       "<style scoped>\n",
       "    .dataframe tbody tr th:only-of-type {\n",
       "        vertical-align: middle;\n",
       "    }\n",
       "\n",
       "    .dataframe tbody tr th {\n",
       "        vertical-align: top;\n",
       "    }\n",
       "\n",
       "    .dataframe thead th {\n",
       "        text-align: right;\n",
       "    }\n",
       "</style>\n",
       "<table border=\"1\" class=\"dataframe\">\n",
       "  <thead>\n",
       "    <tr style=\"text-align: right;\">\n",
       "      <th></th>\n",
       "      <th>SoldTo</th>\n",
       "      <th>iCon Account ID</th>\n",
       "      <th>Market</th>\n",
       "      <th>BG</th>\n",
       "      <th>Contract Classification</th>\n",
       "      <th>ContractDate</th>\n",
       "      <th>ContractYear</th>\n",
       "      <th>Start Date</th>\n",
       "      <th>End Date</th>\n",
       "      <th>Tenure</th>\n",
       "      <th>...</th>\n",
       "      <th>Renewal Count</th>\n",
       "      <th># Contracts Warranty Converted</th>\n",
       "      <th>Total Warranty Contracts</th>\n",
       "      <th># Contracts Extended Warranty Converted</th>\n",
       "      <th>Total Extended Warranty Contracts</th>\n",
       "      <th>Renewed</th>\n",
       "      <th>Net Value LC</th>\n",
       "      <th>Net Value EUR</th>\n",
       "      <th>Annualized Net Value LC</th>\n",
       "      <th>Annualized Net Value EUR</th>\n",
       "    </tr>\n",
       "  </thead>\n",
       "  <tbody>\n",
       "    <tr>\n",
       "      <th>0</th>\n",
       "      <td>9448217</td>\n",
       "      <td>20604;588</td>\n",
       "      <td>LATAM</td>\n",
       "      <td>TC</td>\n",
       "      <td>Warranty</td>\n",
       "      <td>2020-06-15 00:00:00</td>\n",
       "      <td>2020.0</td>\n",
       "      <td>2020-05-06</td>\n",
       "      <td>2021-08-05</td>\n",
       "      <td>14.0</td>\n",
       "      <td>...</td>\n",
       "      <td>0</td>\n",
       "      <td>0</td>\n",
       "      <td>1</td>\n",
       "      <td>0</td>\n",
       "      <td>0</td>\n",
       "      <td>0</td>\n",
       "      <td>0.0</td>\n",
       "      <td>0.0</td>\n",
       "      <td>0.0</td>\n",
       "      <td>0.0</td>\n",
       "    </tr>\n",
       "    <tr>\n",
       "      <th>1</th>\n",
       "      <td>94264827</td>\n",
       "      <td>12868;158430;285</td>\n",
       "      <td>DACH</td>\n",
       "      <td>TC</td>\n",
       "      <td>Warranty</td>\n",
       "      <td>2014-01-14 00:00:00</td>\n",
       "      <td>2014.0</td>\n",
       "      <td>2013-12-12</td>\n",
       "      <td>2021-12-11</td>\n",
       "      <td>95.0</td>\n",
       "      <td>...</td>\n",
       "      <td>0</td>\n",
       "      <td>0</td>\n",
       "      <td>1</td>\n",
       "      <td>0</td>\n",
       "      <td>0</td>\n",
       "      <td>0</td>\n",
       "      <td>0.0</td>\n",
       "      <td>0.0</td>\n",
       "      <td>0.0</td>\n",
       "      <td>0.0</td>\n",
       "    </tr>\n",
       "    <tr>\n",
       "      <th>2</th>\n",
       "      <td>94264827</td>\n",
       "      <td>12868;158430;285</td>\n",
       "      <td>UKI</td>\n",
       "      <td>TC</td>\n",
       "      <td>Warranty</td>\n",
       "      <td>2014-01-14 00:00:00</td>\n",
       "      <td>2014.0</td>\n",
       "      <td>2013-12-12</td>\n",
       "      <td>2021-12-11</td>\n",
       "      <td>95.0</td>\n",
       "      <td>...</td>\n",
       "      <td>0</td>\n",
       "      <td>0</td>\n",
       "      <td>1</td>\n",
       "      <td>0</td>\n",
       "      <td>0</td>\n",
       "      <td>0</td>\n",
       "      <td>0.0</td>\n",
       "      <td>0.0</td>\n",
       "      <td>0.0</td>\n",
       "      <td>0.0</td>\n",
       "    </tr>\n",
       "    <tr>\n",
       "      <th>3</th>\n",
       "      <td>9493951</td>\n",
       "      <td>288</td>\n",
       "      <td>DACH</td>\n",
       "      <td>TC</td>\n",
       "      <td>Warranty</td>\n",
       "      <td>2013-05-28 00:00:00</td>\n",
       "      <td>2013.0</td>\n",
       "      <td>2013-01-09</td>\n",
       "      <td>2021-01-08</td>\n",
       "      <td>95.0</td>\n",
       "      <td>...</td>\n",
       "      <td>0</td>\n",
       "      <td>0</td>\n",
       "      <td>1</td>\n",
       "      <td>0</td>\n",
       "      <td>0</td>\n",
       "      <td>0</td>\n",
       "      <td>0.0</td>\n",
       "      <td>0.0</td>\n",
       "      <td>0.0</td>\n",
       "      <td>0.0</td>\n",
       "    </tr>\n",
       "    <tr>\n",
       "      <th>4</th>\n",
       "      <td>9499108</td>\n",
       "      <td>258</td>\n",
       "      <td>UKI</td>\n",
       "      <td>TC</td>\n",
       "      <td>Warranty</td>\n",
       "      <td>2013-03-12 00:00:00</td>\n",
       "      <td>2013.0</td>\n",
       "      <td>2013-02-04</td>\n",
       "      <td>2021-02-03</td>\n",
       "      <td>95.0</td>\n",
       "      <td>...</td>\n",
       "      <td>0</td>\n",
       "      <td>0</td>\n",
       "      <td>1</td>\n",
       "      <td>0</td>\n",
       "      <td>0</td>\n",
       "      <td>0</td>\n",
       "      <td>0.0</td>\n",
       "      <td>0.0</td>\n",
       "      <td>0.0</td>\n",
       "      <td>0.0</td>\n",
       "    </tr>\n",
       "  </tbody>\n",
       "</table>\n",
       "<p>5 rows × 26 columns</p>\n",
       "</div>"
      ],
      "text/plain": [
       "     SoldTo   iCon Account ID Market  BG Contract Classification  \\\n",
       "0   9448217         20604;588  LATAM  TC                Warranty   \n",
       "1  94264827  12868;158430;285   DACH  TC                Warranty   \n",
       "2  94264827  12868;158430;285    UKI  TC                Warranty   \n",
       "3   9493951               288   DACH  TC                Warranty   \n",
       "4   9499108               258    UKI  TC                Warranty   \n",
       "\n",
       "          ContractDate  ContractYear Start Date   End Date  Tenure  ...  \\\n",
       "0  2020-06-15 00:00:00        2020.0 2020-05-06 2021-08-05    14.0  ...   \n",
       "1  2014-01-14 00:00:00        2014.0 2013-12-12 2021-12-11    95.0  ...   \n",
       "2  2014-01-14 00:00:00        2014.0 2013-12-12 2021-12-11    95.0  ...   \n",
       "3  2013-05-28 00:00:00        2013.0 2013-01-09 2021-01-08    95.0  ...   \n",
       "4  2013-03-12 00:00:00        2013.0 2013-02-04 2021-02-03    95.0  ...   \n",
       "\n",
       "   Renewal Count  # Contracts Warranty Converted  Total Warranty Contracts  \\\n",
       "0              0                               0                         1   \n",
       "1              0                               0                         1   \n",
       "2              0                               0                         1   \n",
       "3              0                               0                         1   \n",
       "4              0                               0                         1   \n",
       "\n",
       "   # Contracts Extended Warranty Converted  Total Extended Warranty Contracts  \\\n",
       "0                                        0                                  0   \n",
       "1                                        0                                  0   \n",
       "2                                        0                                  0   \n",
       "3                                        0                                  0   \n",
       "4                                        0                                  0   \n",
       "\n",
       "   Renewed  Net Value LC  Net Value EUR  Annualized Net Value LC  \\\n",
       "0        0           0.0            0.0                      0.0   \n",
       "1        0           0.0            0.0                      0.0   \n",
       "2        0           0.0            0.0                      0.0   \n",
       "3        0           0.0            0.0                      0.0   \n",
       "4        0           0.0            0.0                      0.0   \n",
       "\n",
       "   Annualized Net Value EUR  \n",
       "0                       0.0  \n",
       "1                       0.0  \n",
       "2                       0.0  \n",
       "3                       0.0  \n",
       "4                       0.0  \n",
       "\n",
       "[5 rows x 26 columns]"
      ]
     },
     "execution_count": 236,
     "metadata": {},
     "output_type": "execute_result"
    }
   ],
   "source": [
    "data.rename({'Contract Date': 'ContractDate'}, axis=1, inplace=True)\n",
    "data.rename({'Contract End Year': 'ContractEndYear'}, axis=1, inplace=True)\n",
    "data.rename({'Total Contract Count': 'TotalContractCount'}, axis=1, inplace=True)\n",
    "data.rename({'Total Warranty Count': 'TotalWarrantyCount'}, axis=1, inplace=True)\n",
    "data.rename({'Total Extended Warranty Count': 'TotalExtendedWarrantyCount'}, axis=1, inplace=True)\n",
    "data.rename({'iCon Market': 'Market'}, axis=1, inplace=True)\n",
    "data.head()"
   ]
  },
  {
   "cell_type": "markdown",
   "id": "562596cf",
   "metadata": {},
   "source": [
    "# Replace NaN values with zero"
   ]
  },
  {
   "cell_type": "code",
   "execution_count": 237,
   "id": "cdf12e18",
   "metadata": {},
   "outputs": [],
   "source": [
    "data['TotalContractCount'] = data['TotalContractCount'].replace({\" \":'0'})\n",
    "data['TotalWarrantyCount'] = data['TotalWarrantyCount'].replace({\" \":'0'})\n",
    "data['TotalExtendedWarrantyCount'] = data['TotalExtendedWarrantyCount'].replace({\" \":'0'})\n"
   ]
  },
  {
   "cell_type": "code",
   "execution_count": 238,
   "id": "fa89a337",
   "metadata": {},
   "outputs": [],
   "source": [
    "data = data.drop('iCon Account ID', axis=1)"
   ]
  },
  {
   "cell_type": "code",
   "execution_count": 239,
   "id": "a083518d",
   "metadata": {},
   "outputs": [],
   "source": [
    "data = data.drop('ContractDate', axis=1)"
   ]
  },
  {
   "cell_type": "markdown",
   "id": "08f3a2f7",
   "metadata": {},
   "source": [
    "# Drop non-important features"
   ]
  },
  {
   "cell_type": "markdown",
   "id": "f1b2846c",
   "metadata": {},
   "source": [
    "# Change wrong types"
   ]
  },
  {
   "cell_type": "code",
   "execution_count": 240,
   "id": "2b6d1191",
   "metadata": {},
   "outputs": [
    {
     "data": {
      "text/plain": [
       "SoldTo                                              int64\n",
       "Market                                             object\n",
       "BG                                                 object\n",
       "Contract Classification                            object\n",
       "ContractYear                                      float64\n",
       "Start Date                                 datetime64[ns]\n",
       "End Date                                   datetime64[ns]\n",
       "Tenure                                            float64\n",
       "ContractEndYear                                     int64\n",
       "TotalContractCount                                  int64\n",
       "TotalWarrantyCount                                  int64\n",
       "Warranty Conversion Count                           int64\n",
       "Extended Warranty Conversion Count                  int64\n",
       "TotalExtendedWarrantyCount                          int64\n",
       "Renewal Count                                       int64\n",
       "# Contracts Warranty Converted                      int64\n",
       "Total Warranty Contracts                            int64\n",
       "# Contracts Extended Warranty Converted             int64\n",
       "Total Extended Warranty Contracts                   int64\n",
       "Renewed                                             int64\n",
       "Net Value LC                                      float64\n",
       "Net Value EUR                                     float64\n",
       "Annualized Net Value LC                           float64\n",
       "Annualized Net Value EUR                          float64\n",
       "dtype: object"
      ]
     },
     "execution_count": 240,
     "metadata": {},
     "output_type": "execute_result"
    }
   ],
   "source": [
    "data.dtypes"
   ]
  },
  {
   "cell_type": "code",
   "execution_count": 241,
   "id": "f1c84e57",
   "metadata": {},
   "outputs": [
    {
     "name": "stdout",
     "output_type": "stream",
     "text": [
      "tenure_count[(11.0, 192627), (12.0, 53002), (95.0, 24811), (35.0, 13150), (14.0, 7312), (23.0, 3089), (59.0, 2836), (13.0, 2335), (2.0, 689), (26.0, 405), (47.0, 297), (96.0, 208), (5.0, 203), (0.0, 141), (10.0, 124), (16.0, 103), (15.0, 92), (9.0, 89), (6.0, 84), (8.0, 83), (1.0, 68), (20.0, 64), (3.0, 62), (17.0, 58), (7.0, 56), (29.0, 50), (24.0, 49), (25.0, 40), (4.0, 39), (36.0, 28), (44.0, 28), (34.0, 27), (27.0, 27), (32.0, 26), (68.0, 25), (18.0, 23), (101.0, 22), (86.0, 20), (28.0, 16), (38.0, 14), (21.0, 13), (60.0, 12), (30.0, 12), (71.0, 12), (22.0, 10), (98.0, 10), (33.0, 9), (67.0, 8), (19.0, 7), (106.0, 6), (65.0, 6), (74.0, 6), (55.0, 5), (56.0, 5), (50.0, 5), (58.0, 4), (83.0, 4), (99.0, 4), (105.0, 4), (66.0, 4), (31.0, 3), (41.0, 3), (45.0, 3), (48.0, 3), (103.0, 3), (108.0, 2), (107.0, 2), (110.0, 2), (102.0, 2), (72.0, 2), (40.0, 2), (84.0, 2), (88.0, 2), (100.0, 2), (104.0, 2), (62.0, 2), (37.0, 2), (43.0, 2), (54.0, 2), (63.0, 1), (46.0, 1), (51.0, 1), (39.0, 1), (42.0, 1), (nan, 1), (134.0, 1), (79.0, 1), (90.0, 1), (70.0, 1), (158.0, 1), (57.0, 1), (61.0, 1), (49.0, 1), (220.0, 1), (nan, 1), (nan, 1), (nan, 1), (nan, 1), (nan, 1), (nan, 1), (nan, 1), (nan, 1), (nan, 1), (nan, 1), (nan, 1)]\n"
     ]
    }
   ],
   "source": [
    "tenure_count = Counter(data['Tenure']).most_common()\n",
    "print(\"tenure_count\" +str(tenure_count))"
   ]
  },
  {
   "cell_type": "code",
   "execution_count": 242,
   "id": "da6c4dfc",
   "metadata": {},
   "outputs": [],
   "source": [
    "data['Tenure'] = data['Tenure'].replace({\"nan\":'0'})"
   ]
  },
  {
   "cell_type": "code",
   "execution_count": 243,
   "id": "06732c4b",
   "metadata": {},
   "outputs": [
    {
     "name": "stdout",
     "output_type": "stream",
     "text": [
      "tenure_count[(11.0, 192627), (12.0, 53002), (95.0, 24811), (35.0, 13150), (14.0, 7312), (23.0, 3089), (59.0, 2836), (13.0, 2335), (2.0, 689), (26.0, 405), (47.0, 297), (96.0, 208), (5.0, 203), (0.0, 141), (10.0, 124), (16.0, 103), (15.0, 92), (9.0, 89), (6.0, 84), (8.0, 83), (1.0, 68), (20.0, 64), (3.0, 62), (17.0, 58), (7.0, 56), (29.0, 50), (24.0, 49), (25.0, 40), (4.0, 39), (36.0, 28), (44.0, 28), (34.0, 27), (27.0, 27), (32.0, 26), (68.0, 25), (18.0, 23), (101.0, 22), (86.0, 20), (28.0, 16), (38.0, 14), (21.0, 13), (60.0, 12), (30.0, 12), (71.0, 12), (22.0, 10), (98.0, 10), (33.0, 9), (67.0, 8), (19.0, 7), (106.0, 6), (65.0, 6), (74.0, 6), (55.0, 5), (56.0, 5), (50.0, 5), (58.0, 4), (83.0, 4), (99.0, 4), (105.0, 4), (66.0, 4), (31.0, 3), (41.0, 3), (45.0, 3), (48.0, 3), (103.0, 3), (108.0, 2), (107.0, 2), (110.0, 2), (102.0, 2), (72.0, 2), (40.0, 2), (84.0, 2), (88.0, 2), (100.0, 2), (104.0, 2), (62.0, 2), (37.0, 2), (43.0, 2), (54.0, 2), (63.0, 1), (46.0, 1), (51.0, 1), (39.0, 1), (42.0, 1), (nan, 1), (134.0, 1), (79.0, 1), (90.0, 1), (70.0, 1), (158.0, 1), (57.0, 1), (61.0, 1), (49.0, 1), (220.0, 1), (nan, 1), (nan, 1), (nan, 1), (nan, 1), (nan, 1), (nan, 1), (nan, 1), (nan, 1), (nan, 1), (nan, 1), (nan, 1)]\n"
     ]
    }
   ],
   "source": [
    "tenure_count = Counter(data['Tenure']).most_common()\n",
    "print(\"tenure_count\" +str(tenure_count))"
   ]
  },
  {
   "cell_type": "code",
   "execution_count": 244,
   "id": "162d6581",
   "metadata": {},
   "outputs": [],
   "source": [
    "data['Tenure'] = data['Tenure'].fillna(0)"
   ]
  },
  {
   "cell_type": "code",
   "execution_count": 245,
   "id": "0fb85db7",
   "metadata": {},
   "outputs": [
    {
     "ename": "ValueError",
     "evalue": "Cannot convert non-finite values (NA or inf) to integer",
     "output_type": "error",
     "traceback": [
      "\u001b[1;31m---------------------------------------------------------------------------\u001b[0m",
      "\u001b[1;31mValueError\u001b[0m                                Traceback (most recent call last)",
      "\u001b[1;32m<ipython-input-245-b37284219551>\u001b[0m in \u001b[0;36m<module>\u001b[1;34m\u001b[0m\n\u001b[1;32m----> 1\u001b[1;33m \u001b[0mdata\u001b[0m\u001b[1;33m[\u001b[0m\u001b[1;34m'ContractYear'\u001b[0m\u001b[1;33m]\u001b[0m \u001b[1;33m=\u001b[0m \u001b[0mdata\u001b[0m\u001b[1;33m[\u001b[0m\u001b[1;34m'ContractYear'\u001b[0m\u001b[1;33m]\u001b[0m\u001b[1;33m.\u001b[0m\u001b[0mastype\u001b[0m\u001b[1;33m(\u001b[0m\u001b[0mint\u001b[0m\u001b[1;33m)\u001b[0m\u001b[1;33m\u001b[0m\u001b[1;33m\u001b[0m\u001b[0m\n\u001b[0m\u001b[0;32m      2\u001b[0m \u001b[0mdata\u001b[0m\u001b[1;33m[\u001b[0m\u001b[1;34m'Tenure'\u001b[0m\u001b[1;33m]\u001b[0m \u001b[1;33m=\u001b[0m \u001b[0mdata\u001b[0m\u001b[1;33m[\u001b[0m\u001b[1;34m'Tenure'\u001b[0m\u001b[1;33m]\u001b[0m\u001b[1;33m.\u001b[0m\u001b[0mastype\u001b[0m\u001b[1;33m(\u001b[0m\u001b[0mint\u001b[0m\u001b[1;33m)\u001b[0m\u001b[1;33m\u001b[0m\u001b[1;33m\u001b[0m\u001b[0m\n",
      "\u001b[1;32m~\\Anaconda3\\lib\\site-packages\\pandas\\core\\generic.py\u001b[0m in \u001b[0;36mastype\u001b[1;34m(self, dtype, copy, errors)\u001b[0m\n\u001b[0;32m   5875\u001b[0m         \u001b[1;32melse\u001b[0m\u001b[1;33m:\u001b[0m\u001b[1;33m\u001b[0m\u001b[1;33m\u001b[0m\u001b[0m\n\u001b[0;32m   5876\u001b[0m             \u001b[1;31m# else, only a single dtype is given\u001b[0m\u001b[1;33m\u001b[0m\u001b[1;33m\u001b[0m\u001b[1;33m\u001b[0m\u001b[0m\n\u001b[1;32m-> 5877\u001b[1;33m             \u001b[0mnew_data\u001b[0m \u001b[1;33m=\u001b[0m \u001b[0mself\u001b[0m\u001b[1;33m.\u001b[0m\u001b[0m_mgr\u001b[0m\u001b[1;33m.\u001b[0m\u001b[0mastype\u001b[0m\u001b[1;33m(\u001b[0m\u001b[0mdtype\u001b[0m\u001b[1;33m=\u001b[0m\u001b[0mdtype\u001b[0m\u001b[1;33m,\u001b[0m \u001b[0mcopy\u001b[0m\u001b[1;33m=\u001b[0m\u001b[0mcopy\u001b[0m\u001b[1;33m,\u001b[0m \u001b[0merrors\u001b[0m\u001b[1;33m=\u001b[0m\u001b[0merrors\u001b[0m\u001b[1;33m)\u001b[0m\u001b[1;33m\u001b[0m\u001b[1;33m\u001b[0m\u001b[0m\n\u001b[0m\u001b[0;32m   5878\u001b[0m             \u001b[1;32mreturn\u001b[0m \u001b[0mself\u001b[0m\u001b[1;33m.\u001b[0m\u001b[0m_constructor\u001b[0m\u001b[1;33m(\u001b[0m\u001b[0mnew_data\u001b[0m\u001b[1;33m)\u001b[0m\u001b[1;33m.\u001b[0m\u001b[0m__finalize__\u001b[0m\u001b[1;33m(\u001b[0m\u001b[0mself\u001b[0m\u001b[1;33m,\u001b[0m \u001b[0mmethod\u001b[0m\u001b[1;33m=\u001b[0m\u001b[1;34m\"astype\"\u001b[0m\u001b[1;33m)\u001b[0m\u001b[1;33m\u001b[0m\u001b[1;33m\u001b[0m\u001b[0m\n\u001b[0;32m   5879\u001b[0m \u001b[1;33m\u001b[0m\u001b[0m\n",
      "\u001b[1;32m~\\Anaconda3\\lib\\site-packages\\pandas\\core\\internals\\managers.py\u001b[0m in \u001b[0;36mastype\u001b[1;34m(self, dtype, copy, errors)\u001b[0m\n\u001b[0;32m    629\u001b[0m         \u001b[0mself\u001b[0m\u001b[1;33m,\u001b[0m \u001b[0mdtype\u001b[0m\u001b[1;33m,\u001b[0m \u001b[0mcopy\u001b[0m\u001b[1;33m:\u001b[0m \u001b[0mbool\u001b[0m \u001b[1;33m=\u001b[0m \u001b[1;32mFalse\u001b[0m\u001b[1;33m,\u001b[0m \u001b[0merrors\u001b[0m\u001b[1;33m:\u001b[0m \u001b[0mstr\u001b[0m \u001b[1;33m=\u001b[0m \u001b[1;34m\"raise\"\u001b[0m\u001b[1;33m\u001b[0m\u001b[1;33m\u001b[0m\u001b[0m\n\u001b[0;32m    630\u001b[0m     ) -> \"BlockManager\":\n\u001b[1;32m--> 631\u001b[1;33m         \u001b[1;32mreturn\u001b[0m \u001b[0mself\u001b[0m\u001b[1;33m.\u001b[0m\u001b[0mapply\u001b[0m\u001b[1;33m(\u001b[0m\u001b[1;34m\"astype\"\u001b[0m\u001b[1;33m,\u001b[0m \u001b[0mdtype\u001b[0m\u001b[1;33m=\u001b[0m\u001b[0mdtype\u001b[0m\u001b[1;33m,\u001b[0m \u001b[0mcopy\u001b[0m\u001b[1;33m=\u001b[0m\u001b[0mcopy\u001b[0m\u001b[1;33m,\u001b[0m \u001b[0merrors\u001b[0m\u001b[1;33m=\u001b[0m\u001b[0merrors\u001b[0m\u001b[1;33m)\u001b[0m\u001b[1;33m\u001b[0m\u001b[1;33m\u001b[0m\u001b[0m\n\u001b[0m\u001b[0;32m    632\u001b[0m \u001b[1;33m\u001b[0m\u001b[0m\n\u001b[0;32m    633\u001b[0m     def convert(\n",
      "\u001b[1;32m~\\Anaconda3\\lib\\site-packages\\pandas\\core\\internals\\managers.py\u001b[0m in \u001b[0;36mapply\u001b[1;34m(self, f, align_keys, ignore_failures, **kwargs)\u001b[0m\n\u001b[0;32m    425\u001b[0m                     \u001b[0mapplied\u001b[0m \u001b[1;33m=\u001b[0m \u001b[0mb\u001b[0m\u001b[1;33m.\u001b[0m\u001b[0mapply\u001b[0m\u001b[1;33m(\u001b[0m\u001b[0mf\u001b[0m\u001b[1;33m,\u001b[0m \u001b[1;33m**\u001b[0m\u001b[0mkwargs\u001b[0m\u001b[1;33m)\u001b[0m\u001b[1;33m\u001b[0m\u001b[1;33m\u001b[0m\u001b[0m\n\u001b[0;32m    426\u001b[0m                 \u001b[1;32melse\u001b[0m\u001b[1;33m:\u001b[0m\u001b[1;33m\u001b[0m\u001b[1;33m\u001b[0m\u001b[0m\n\u001b[1;32m--> 427\u001b[1;33m                     \u001b[0mapplied\u001b[0m \u001b[1;33m=\u001b[0m \u001b[0mgetattr\u001b[0m\u001b[1;33m(\u001b[0m\u001b[0mb\u001b[0m\u001b[1;33m,\u001b[0m \u001b[0mf\u001b[0m\u001b[1;33m)\u001b[0m\u001b[1;33m(\u001b[0m\u001b[1;33m**\u001b[0m\u001b[0mkwargs\u001b[0m\u001b[1;33m)\u001b[0m\u001b[1;33m\u001b[0m\u001b[1;33m\u001b[0m\u001b[0m\n\u001b[0m\u001b[0;32m    428\u001b[0m             \u001b[1;32mexcept\u001b[0m \u001b[1;33m(\u001b[0m\u001b[0mTypeError\u001b[0m\u001b[1;33m,\u001b[0m \u001b[0mNotImplementedError\u001b[0m\u001b[1;33m)\u001b[0m\u001b[1;33m:\u001b[0m\u001b[1;33m\u001b[0m\u001b[1;33m\u001b[0m\u001b[0m\n\u001b[0;32m    429\u001b[0m                 \u001b[1;32mif\u001b[0m \u001b[1;32mnot\u001b[0m \u001b[0mignore_failures\u001b[0m\u001b[1;33m:\u001b[0m\u001b[1;33m\u001b[0m\u001b[1;33m\u001b[0m\u001b[0m\n",
      "\u001b[1;32m~\\Anaconda3\\lib\\site-packages\\pandas\\core\\internals\\blocks.py\u001b[0m in \u001b[0;36mastype\u001b[1;34m(self, dtype, copy, errors)\u001b[0m\n\u001b[0;32m    671\u001b[0m             \u001b[0mvals1d\u001b[0m \u001b[1;33m=\u001b[0m \u001b[0mvalues\u001b[0m\u001b[1;33m.\u001b[0m\u001b[0mravel\u001b[0m\u001b[1;33m(\u001b[0m\u001b[1;33m)\u001b[0m\u001b[1;33m\u001b[0m\u001b[1;33m\u001b[0m\u001b[0m\n\u001b[0;32m    672\u001b[0m             \u001b[1;32mtry\u001b[0m\u001b[1;33m:\u001b[0m\u001b[1;33m\u001b[0m\u001b[1;33m\u001b[0m\u001b[0m\n\u001b[1;32m--> 673\u001b[1;33m                 \u001b[0mvalues\u001b[0m \u001b[1;33m=\u001b[0m \u001b[0mastype_nansafe\u001b[0m\u001b[1;33m(\u001b[0m\u001b[0mvals1d\u001b[0m\u001b[1;33m,\u001b[0m \u001b[0mdtype\u001b[0m\u001b[1;33m,\u001b[0m \u001b[0mcopy\u001b[0m\u001b[1;33m=\u001b[0m\u001b[1;32mTrue\u001b[0m\u001b[1;33m)\u001b[0m\u001b[1;33m\u001b[0m\u001b[1;33m\u001b[0m\u001b[0m\n\u001b[0m\u001b[0;32m    674\u001b[0m             \u001b[1;32mexcept\u001b[0m \u001b[1;33m(\u001b[0m\u001b[0mValueError\u001b[0m\u001b[1;33m,\u001b[0m \u001b[0mTypeError\u001b[0m\u001b[1;33m)\u001b[0m\u001b[1;33m:\u001b[0m\u001b[1;33m\u001b[0m\u001b[1;33m\u001b[0m\u001b[0m\n\u001b[0;32m    675\u001b[0m                 \u001b[1;31m# e.g. astype_nansafe can fail on object-dtype of strings\u001b[0m\u001b[1;33m\u001b[0m\u001b[1;33m\u001b[0m\u001b[1;33m\u001b[0m\u001b[0m\n",
      "\u001b[1;32m~\\Anaconda3\\lib\\site-packages\\pandas\\core\\dtypes\\cast.py\u001b[0m in \u001b[0;36mastype_nansafe\u001b[1;34m(arr, dtype, copy, skipna)\u001b[0m\n\u001b[0;32m   1066\u001b[0m \u001b[1;33m\u001b[0m\u001b[0m\n\u001b[0;32m   1067\u001b[0m         \u001b[1;32mif\u001b[0m \u001b[1;32mnot\u001b[0m \u001b[0mnp\u001b[0m\u001b[1;33m.\u001b[0m\u001b[0misfinite\u001b[0m\u001b[1;33m(\u001b[0m\u001b[0marr\u001b[0m\u001b[1;33m)\u001b[0m\u001b[1;33m.\u001b[0m\u001b[0mall\u001b[0m\u001b[1;33m(\u001b[0m\u001b[1;33m)\u001b[0m\u001b[1;33m:\u001b[0m\u001b[1;33m\u001b[0m\u001b[1;33m\u001b[0m\u001b[0m\n\u001b[1;32m-> 1068\u001b[1;33m             \u001b[1;32mraise\u001b[0m \u001b[0mValueError\u001b[0m\u001b[1;33m(\u001b[0m\u001b[1;34m\"Cannot convert non-finite values (NA or inf) to integer\"\u001b[0m\u001b[1;33m)\u001b[0m\u001b[1;33m\u001b[0m\u001b[1;33m\u001b[0m\u001b[0m\n\u001b[0m\u001b[0;32m   1069\u001b[0m \u001b[1;33m\u001b[0m\u001b[0m\n\u001b[0;32m   1070\u001b[0m     \u001b[1;32melif\u001b[0m \u001b[0mis_object_dtype\u001b[0m\u001b[1;33m(\u001b[0m\u001b[0marr\u001b[0m\u001b[1;33m)\u001b[0m\u001b[1;33m:\u001b[0m\u001b[1;33m\u001b[0m\u001b[1;33m\u001b[0m\u001b[0m\n",
      "\u001b[1;31mValueError\u001b[0m: Cannot convert non-finite values (NA or inf) to integer"
     ]
    }
   ],
   "source": [
    "\n",
    "data['ContractYear'] = data['ContractYear'].astype(int)\n",
    "data['Tenure'] = data['Tenure'].astype(int)"
   ]
  },
  {
   "cell_type": "code",
   "execution_count": 246,
   "id": "e609616f",
   "metadata": {},
   "outputs": [],
   "source": [
    "data['ContractYear'] = data['ContractYear'].fillna(0)"
   ]
  },
  {
   "cell_type": "code",
   "execution_count": 247,
   "id": "6bc16c02",
   "metadata": {},
   "outputs": [],
   "source": [
    "data['ContractYear'] = data['ContractYear'].astype(object)"
   ]
  },
  {
   "cell_type": "code",
   "execution_count": 248,
   "id": "a203b261",
   "metadata": {},
   "outputs": [
    {
     "data": {
      "text/plain": [
       "SoldTo                                              int64\n",
       "Market                                             object\n",
       "BG                                                 object\n",
       "Contract Classification                            object\n",
       "ContractYear                                       object\n",
       "Start Date                                 datetime64[ns]\n",
       "End Date                                   datetime64[ns]\n",
       "Tenure                                            float64\n",
       "ContractEndYear                                     int64\n",
       "TotalContractCount                                  int64\n",
       "TotalWarrantyCount                                  int64\n",
       "Warranty Conversion Count                           int64\n",
       "Extended Warranty Conversion Count                  int64\n",
       "TotalExtendedWarrantyCount                          int64\n",
       "Renewal Count                                       int64\n",
       "# Contracts Warranty Converted                      int64\n",
       "Total Warranty Contracts                            int64\n",
       "# Contracts Extended Warranty Converted             int64\n",
       "Total Extended Warranty Contracts                   int64\n",
       "Renewed                                             int64\n",
       "Net Value LC                                      float64\n",
       "Net Value EUR                                     float64\n",
       "Annualized Net Value LC                           float64\n",
       "Annualized Net Value EUR                          float64\n",
       "dtype: object"
      ]
     },
     "execution_count": 248,
     "metadata": {},
     "output_type": "execute_result"
    }
   ],
   "source": [
    "data.dtypes"
   ]
  },
  {
   "cell_type": "markdown",
   "id": "de7d2ac0",
   "metadata": {},
   "source": [
    "# Look at how data looks like"
   ]
  },
  {
   "cell_type": "code",
   "execution_count": 249,
   "id": "8dc3644c",
   "metadata": {},
   "outputs": [
    {
     "data": {
      "text/html": [
       "<div>\n",
       "<style scoped>\n",
       "    .dataframe tbody tr th:only-of-type {\n",
       "        vertical-align: middle;\n",
       "    }\n",
       "\n",
       "    .dataframe tbody tr th {\n",
       "        vertical-align: top;\n",
       "    }\n",
       "\n",
       "    .dataframe thead th {\n",
       "        text-align: right;\n",
       "    }\n",
       "</style>\n",
       "<table border=\"1\" class=\"dataframe\">\n",
       "  <thead>\n",
       "    <tr style=\"text-align: right;\">\n",
       "      <th></th>\n",
       "      <th>SoldTo</th>\n",
       "      <th>Tenure</th>\n",
       "      <th>ContractEndYear</th>\n",
       "      <th>TotalContractCount</th>\n",
       "      <th>TotalWarrantyCount</th>\n",
       "      <th>Warranty Conversion Count</th>\n",
       "      <th>Extended Warranty Conversion Count</th>\n",
       "      <th>TotalExtendedWarrantyCount</th>\n",
       "      <th>Renewal Count</th>\n",
       "      <th># Contracts Warranty Converted</th>\n",
       "      <th>Total Warranty Contracts</th>\n",
       "      <th># Contracts Extended Warranty Converted</th>\n",
       "      <th>Total Extended Warranty Contracts</th>\n",
       "      <th>Renewed</th>\n",
       "      <th>Net Value LC</th>\n",
       "      <th>Net Value EUR</th>\n",
       "      <th>Annualized Net Value LC</th>\n",
       "      <th>Annualized Net Value EUR</th>\n",
       "    </tr>\n",
       "  </thead>\n",
       "  <tbody>\n",
       "    <tr>\n",
       "      <th>count</th>\n",
       "      <td>3.026370e+05</td>\n",
       "      <td>302637.000000</td>\n",
       "      <td>302637.000000</td>\n",
       "      <td>302637.000000</td>\n",
       "      <td>302637.000000</td>\n",
       "      <td>302637.000000</td>\n",
       "      <td>302637.000000</td>\n",
       "      <td>302637.000000</td>\n",
       "      <td>302637.000000</td>\n",
       "      <td>302637.000000</td>\n",
       "      <td>302637.000000</td>\n",
       "      <td>302637.000000</td>\n",
       "      <td>302637.000000</td>\n",
       "      <td>302637.000000</td>\n",
       "      <td>3.026370e+05</td>\n",
       "      <td>302637.000000</td>\n",
       "      <td>3.026370e+05</td>\n",
       "      <td>302637.000000</td>\n",
       "    </tr>\n",
       "    <tr>\n",
       "      <th>mean</th>\n",
       "      <td>5.054309e+07</td>\n",
       "      <td>19.916008</td>\n",
       "      <td>2020.613012</td>\n",
       "      <td>0.016944</td>\n",
       "      <td>0.901433</td>\n",
       "      <td>0.129558</td>\n",
       "      <td>0.001480</td>\n",
       "      <td>0.016369</td>\n",
       "      <td>0.010339</td>\n",
       "      <td>0.129558</td>\n",
       "      <td>0.901433</td>\n",
       "      <td>0.001480</td>\n",
       "      <td>0.016369</td>\n",
       "      <td>0.141361</td>\n",
       "      <td>3.102256e+05</td>\n",
       "      <td>620.255590</td>\n",
       "      <td>2.638064e+05</td>\n",
       "      <td>435.726315</td>\n",
       "    </tr>\n",
       "    <tr>\n",
       "      <th>std</th>\n",
       "      <td>4.552328e+07</td>\n",
       "      <td>23.630356</td>\n",
       "      <td>0.487062</td>\n",
       "      <td>0.129063</td>\n",
       "      <td>0.298080</td>\n",
       "      <td>0.335817</td>\n",
       "      <td>0.038447</td>\n",
       "      <td>0.126892</td>\n",
       "      <td>0.101155</td>\n",
       "      <td>0.335817</td>\n",
       "      <td>0.298080</td>\n",
       "      <td>0.038447</td>\n",
       "      <td>0.126892</td>\n",
       "      <td>0.348394</td>\n",
       "      <td>1.364924e+07</td>\n",
       "      <td>10286.921982</td>\n",
       "      <td>1.068740e+07</td>\n",
       "      <td>6066.888289</td>\n",
       "    </tr>\n",
       "    <tr>\n",
       "      <th>min</th>\n",
       "      <td>1.240230e+05</td>\n",
       "      <td>0.000000</td>\n",
       "      <td>2020.000000</td>\n",
       "      <td>0.000000</td>\n",
       "      <td>0.000000</td>\n",
       "      <td>0.000000</td>\n",
       "      <td>0.000000</td>\n",
       "      <td>0.000000</td>\n",
       "      <td>0.000000</td>\n",
       "      <td>0.000000</td>\n",
       "      <td>0.000000</td>\n",
       "      <td>0.000000</td>\n",
       "      <td>0.000000</td>\n",
       "      <td>0.000000</td>\n",
       "      <td>0.000000e+00</td>\n",
       "      <td>0.000000</td>\n",
       "      <td>0.000000e+00</td>\n",
       "      <td>0.000000</td>\n",
       "    </tr>\n",
       "    <tr>\n",
       "      <th>25%</th>\n",
       "      <td>7.165390e+05</td>\n",
       "      <td>11.000000</td>\n",
       "      <td>2020.000000</td>\n",
       "      <td>0.000000</td>\n",
       "      <td>1.000000</td>\n",
       "      <td>0.000000</td>\n",
       "      <td>0.000000</td>\n",
       "      <td>0.000000</td>\n",
       "      <td>0.000000</td>\n",
       "      <td>0.000000</td>\n",
       "      <td>1.000000</td>\n",
       "      <td>0.000000</td>\n",
       "      <td>0.000000</td>\n",
       "      <td>0.000000</td>\n",
       "      <td>0.000000e+00</td>\n",
       "      <td>0.000000</td>\n",
       "      <td>0.000000e+00</td>\n",
       "      <td>0.000000</td>\n",
       "    </tr>\n",
       "    <tr>\n",
       "      <th>50%</th>\n",
       "      <td>9.400276e+07</td>\n",
       "      <td>11.000000</td>\n",
       "      <td>2021.000000</td>\n",
       "      <td>0.000000</td>\n",
       "      <td>1.000000</td>\n",
       "      <td>0.000000</td>\n",
       "      <td>0.000000</td>\n",
       "      <td>0.000000</td>\n",
       "      <td>0.000000</td>\n",
       "      <td>0.000000</td>\n",
       "      <td>1.000000</td>\n",
       "      <td>0.000000</td>\n",
       "      <td>0.000000</td>\n",
       "      <td>0.000000</td>\n",
       "      <td>0.000000e+00</td>\n",
       "      <td>0.000000</td>\n",
       "      <td>0.000000e+00</td>\n",
       "      <td>0.000000</td>\n",
       "    </tr>\n",
       "    <tr>\n",
       "      <th>75%</th>\n",
       "      <td>9.433071e+07</td>\n",
       "      <td>12.000000</td>\n",
       "      <td>2021.000000</td>\n",
       "      <td>0.000000</td>\n",
       "      <td>1.000000</td>\n",
       "      <td>0.000000</td>\n",
       "      <td>0.000000</td>\n",
       "      <td>0.000000</td>\n",
       "      <td>0.000000</td>\n",
       "      <td>0.000000</td>\n",
       "      <td>1.000000</td>\n",
       "      <td>0.000000</td>\n",
       "      <td>0.000000</td>\n",
       "      <td>0.000000</td>\n",
       "      <td>0.000000e+00</td>\n",
       "      <td>0.000000</td>\n",
       "      <td>0.000000e+00</td>\n",
       "      <td>0.000000</td>\n",
       "    </tr>\n",
       "    <tr>\n",
       "      <th>max</th>\n",
       "      <td>9.467790e+07</td>\n",
       "      <td>220.000000</td>\n",
       "      <td>2021.000000</td>\n",
       "      <td>1.000000</td>\n",
       "      <td>1.000000</td>\n",
       "      <td>1.000000</td>\n",
       "      <td>1.000000</td>\n",
       "      <td>1.000000</td>\n",
       "      <td>1.000000</td>\n",
       "      <td>1.000000</td>\n",
       "      <td>1.000000</td>\n",
       "      <td>1.000000</td>\n",
       "      <td>1.000000</td>\n",
       "      <td>1.000000</td>\n",
       "      <td>3.358757e+09</td>\n",
       "      <td>845756.040000</td>\n",
       "      <td>1.891036e+09</td>\n",
       "      <td>843445.230000</td>\n",
       "    </tr>\n",
       "  </tbody>\n",
       "</table>\n",
       "</div>"
      ],
      "text/plain": [
       "             SoldTo         Tenure  ContractEndYear  TotalContractCount  \\\n",
       "count  3.026370e+05  302637.000000    302637.000000       302637.000000   \n",
       "mean   5.054309e+07      19.916008      2020.613012            0.016944   \n",
       "std    4.552328e+07      23.630356         0.487062            0.129063   \n",
       "min    1.240230e+05       0.000000      2020.000000            0.000000   \n",
       "25%    7.165390e+05      11.000000      2020.000000            0.000000   \n",
       "50%    9.400276e+07      11.000000      2021.000000            0.000000   \n",
       "75%    9.433071e+07      12.000000      2021.000000            0.000000   \n",
       "max    9.467790e+07     220.000000      2021.000000            1.000000   \n",
       "\n",
       "       TotalWarrantyCount  Warranty Conversion Count  \\\n",
       "count       302637.000000              302637.000000   \n",
       "mean             0.901433                   0.129558   \n",
       "std              0.298080                   0.335817   \n",
       "min              0.000000                   0.000000   \n",
       "25%              1.000000                   0.000000   \n",
       "50%              1.000000                   0.000000   \n",
       "75%              1.000000                   0.000000   \n",
       "max              1.000000                   1.000000   \n",
       "\n",
       "       Extended Warranty Conversion Count  TotalExtendedWarrantyCount  \\\n",
       "count                       302637.000000               302637.000000   \n",
       "mean                             0.001480                    0.016369   \n",
       "std                              0.038447                    0.126892   \n",
       "min                              0.000000                    0.000000   \n",
       "25%                              0.000000                    0.000000   \n",
       "50%                              0.000000                    0.000000   \n",
       "75%                              0.000000                    0.000000   \n",
       "max                              1.000000                    1.000000   \n",
       "\n",
       "       Renewal Count  # Contracts Warranty Converted  \\\n",
       "count  302637.000000                   302637.000000   \n",
       "mean        0.010339                        0.129558   \n",
       "std         0.101155                        0.335817   \n",
       "min         0.000000                        0.000000   \n",
       "25%         0.000000                        0.000000   \n",
       "50%         0.000000                        0.000000   \n",
       "75%         0.000000                        0.000000   \n",
       "max         1.000000                        1.000000   \n",
       "\n",
       "       Total Warranty Contracts  # Contracts Extended Warranty Converted  \\\n",
       "count             302637.000000                            302637.000000   \n",
       "mean                   0.901433                                 0.001480   \n",
       "std                    0.298080                                 0.038447   \n",
       "min                    0.000000                                 0.000000   \n",
       "25%                    1.000000                                 0.000000   \n",
       "50%                    1.000000                                 0.000000   \n",
       "75%                    1.000000                                 0.000000   \n",
       "max                    1.000000                                 1.000000   \n",
       "\n",
       "       Total Extended Warranty Contracts        Renewed  Net Value LC  \\\n",
       "count                      302637.000000  302637.000000  3.026370e+05   \n",
       "mean                            0.016369       0.141361  3.102256e+05   \n",
       "std                             0.126892       0.348394  1.364924e+07   \n",
       "min                             0.000000       0.000000  0.000000e+00   \n",
       "25%                             0.000000       0.000000  0.000000e+00   \n",
       "50%                             0.000000       0.000000  0.000000e+00   \n",
       "75%                             0.000000       0.000000  0.000000e+00   \n",
       "max                             1.000000       1.000000  3.358757e+09   \n",
       "\n",
       "       Net Value EUR  Annualized Net Value LC  Annualized Net Value EUR  \n",
       "count  302637.000000             3.026370e+05             302637.000000  \n",
       "mean      620.255590             2.638064e+05                435.726315  \n",
       "std     10286.921982             1.068740e+07               6066.888289  \n",
       "min         0.000000             0.000000e+00                  0.000000  \n",
       "25%         0.000000             0.000000e+00                  0.000000  \n",
       "50%         0.000000             0.000000e+00                  0.000000  \n",
       "75%         0.000000             0.000000e+00                  0.000000  \n",
       "max    845756.040000             1.891036e+09             843445.230000  "
      ]
     },
     "execution_count": 249,
     "metadata": {},
     "output_type": "execute_result"
    }
   ],
   "source": [
    "data.describe()"
   ]
  },
  {
   "cell_type": "code",
   "execution_count": 250,
   "id": "8a03170c",
   "metadata": {},
   "outputs": [],
   "source": [
    "data = data.drop('Start Date', axis=1)"
   ]
  },
  {
   "cell_type": "code",
   "execution_count": 251,
   "id": "e32d6757",
   "metadata": {},
   "outputs": [],
   "source": [
    "data = data.drop('End Date', axis=1)"
   ]
  },
  {
   "cell_type": "code",
   "execution_count": 252,
   "id": "a0fcb512",
   "metadata": {},
   "outputs": [
    {
     "data": {
      "image/png": "[encoded data removed]",
      "text/plain": [
       "<Figure size 432x288 with 1 Axes>"
      ]
     },
     "metadata": {},
     "output_type": "display_data"
    },
    {
     "data": {
      "image/png": "[encoded data removed]",
      "text/plain": [
       "<Figure size 432x288 with 1 Axes>"
      ]
     },
     "metadata": {},
     "output_type": "display_data"
    },
    {
     "data": {
      "image/png": "[encoded data removed]",
      "text/plain": [
       "<Figure size 432x288 with 1 Axes>"
      ]
     },
     "metadata": {},
     "output_type": "display_data"
    },
    {
     "data": {
      "image/png": "[encoded data removed]",
      "text/plain": [
       "<Figure size 432x288 with 1 Axes>"
      ]
     },
     "metadata": {},
     "output_type": "display_data"
    }
   ],
   "source": [
    "for col in data.select_dtypes('object'):\n",
    "    plt.figure()\n",
    "    data[col].value_counts().plot.pie()"
   ]
  },
  {
   "cell_type": "code",
   "execution_count": 253,
   "id": "769ae6b6",
   "metadata": {},
   "outputs": [
    {
     "data": {
      "image/png": "[encoded data removed]",
      "text/plain": [
       "<Figure size 432x288 with 2 Axes>"
      ]
     },
     "metadata": {
      "needs_background": "light"
     },
     "output_type": "display_data"
    },
    {
     "data": {
      "image/png": "[encoded data removed]",
      "text/plain": [
       "<Figure size 432x288 with 2 Axes>"
      ]
     },
     "metadata": {
      "needs_background": "light"
     },
     "output_type": "display_data"
    },
    {
     "data": {
      "image/png": "[encoded data removed]",
      "text/plain": [
       "<Figure size 432x288 with 2 Axes>"
      ]
     },
     "metadata": {
      "needs_background": "light"
     },
     "output_type": "display_data"
    },
    {
     "data": {
      "image/png": "[encoded data removed]",
      "text/plain": [
       "<Figure size 432x288 with 2 Axes>"
      ]
     },
     "metadata": {
      "needs_background": "light"
     },
     "output_type": "display_data"
    }
   ],
   "source": [
    "for col in data.select_dtypes('object'):\n",
    "    plt.figure()\n",
    "    sns.heatmap(pd.crosstab(data['Renewed'], data[col]), fmt='d')"
   ]
  },
  {
   "cell_type": "code",
   "execution_count": 254,
   "id": "365694ef",
   "metadata": {},
   "outputs": [],
   "source": [
    "data = pd.get_dummies(data,columns=['Market'],prefix='Market')"
   ]
  },
  {
   "cell_type": "code",
   "execution_count": 255,
   "id": "28f112d5",
   "metadata": {},
   "outputs": [
    {
     "data": {
      "text/plain": [
       "SoldTo                                       int64\n",
       "BG                                          object\n",
       "Contract Classification                     object\n",
       "ContractYear                                object\n",
       "Tenure                                     float64\n",
       "ContractEndYear                              int64\n",
       "TotalContractCount                           int64\n",
       "TotalWarrantyCount                           int64\n",
       "Warranty Conversion Count                    int64\n",
       "Extended Warranty Conversion Count           int64\n",
       "TotalExtendedWarrantyCount                   int64\n",
       "Renewal Count                                int64\n",
       "# Contracts Warranty Converted               int64\n",
       "Total Warranty Contracts                     int64\n",
       "# Contracts Extended Warranty Converted      int64\n",
       "Total Extended Warranty Contracts            int64\n",
       "Renewed                                      int64\n",
       "Net Value LC                               float64\n",
       "Net Value EUR                              float64\n",
       "Annualized Net Value LC                    float64\n",
       "Annualized Net Value EUR                   float64\n",
       "Market_#NotDefined2                          uint8\n",
       "Market_AFRICA                                uint8\n",
       "Market_APAC                                  uint8\n",
       "Market_BENELUX                               uint8\n",
       "Market_CEE                                   uint8\n",
       "Market_DACH                                  uint8\n",
       "Market_FRANCE                                uint8\n",
       "Market_GREATER CHINA                         uint8\n",
       "Market_IBERIA                                uint8\n",
       "Market_IIG                                   uint8\n",
       "Market_Indian Subcontinent                   uint8\n",
       "Market_JAPAN                                 uint8\n",
       "Market_LATAM                                 uint8\n",
       "Market_MET                                   uint8\n",
       "Market_NORDICS                               uint8\n",
       "Market_RCA                                   uint8\n",
       "Market_UKI                                   uint8\n",
       "dtype: object"
      ]
     },
     "execution_count": 255,
     "metadata": {},
     "output_type": "execute_result"
    }
   ],
   "source": [
    "data.dtypes"
   ]
  },
  {
   "cell_type": "code",
   "execution_count": 256,
   "id": "2553aa58",
   "metadata": {},
   "outputs": [],
   "source": [
    "data = pd.get_dummies(data,columns=['BG'],prefix='BG')"
   ]
  },
  {
   "cell_type": "code",
   "execution_count": 257,
   "id": "8bfd95b6",
   "metadata": {},
   "outputs": [],
   "source": [
    "data = pd.get_dummies(data,columns=['Contract Classification'],prefix='Contract Classification')"
   ]
  },
  {
   "cell_type": "code",
   "execution_count": 258,
   "id": "bce0c5fa",
   "metadata": {},
   "outputs": [
    {
     "data": {
      "text/plain": [
       "SoldTo                                                    int64\n",
       "ContractYear                                             object\n",
       "Tenure                                                  float64\n",
       "ContractEndYear                                           int64\n",
       "TotalContractCount                                        int64\n",
       "TotalWarrantyCount                                        int64\n",
       "Warranty Conversion Count                                 int64\n",
       "Extended Warranty Conversion Count                        int64\n",
       "TotalExtendedWarrantyCount                                int64\n",
       "Renewal Count                                             int64\n",
       "# Contracts Warranty Converted                            int64\n",
       "Total Warranty Contracts                                  int64\n",
       "# Contracts Extended Warranty Converted                   int64\n",
       "Total Extended Warranty Contracts                         int64\n",
       "Renewed                                                   int64\n",
       "Net Value LC                                            float64\n",
       "Net Value EUR                                           float64\n",
       "Annualized Net Value LC                                 float64\n",
       "Annualized Net Value EUR                                float64\n",
       "Market_#NotDefined2                                       uint8\n",
       "Market_AFRICA                                             uint8\n",
       "Market_APAC                                               uint8\n",
       "Market_BENELUX                                            uint8\n",
       "Market_CEE                                                uint8\n",
       "Market_DACH                                               uint8\n",
       "Market_FRANCE                                             uint8\n",
       "Market_GREATER CHINA                                      uint8\n",
       "Market_IBERIA                                             uint8\n",
       "Market_IIG                                                uint8\n",
       "Market_Indian Subcontinent                                uint8\n",
       "Market_JAPAN                                              uint8\n",
       "Market_LATAM                                              uint8\n",
       "Market_MET                                                uint8\n",
       "Market_NORDICS                                            uint8\n",
       "Market_RCA                                                uint8\n",
       "Market_UKI                                                uint8\n",
       "BG_CCI                                                    uint8\n",
       "BG_CT AMI                                                 uint8\n",
       "BG_EDI                                                    uint8\n",
       "BG_EPD Solutions                                          uint8\n",
       "BG_HTS and EM                                             uint8\n",
       "BG_IGT-D                                                  uint8\n",
       "BG_IGT-S                                                  uint8\n",
       "BG_MA                                                     uint8\n",
       "BG_MR DXR                                                 uint8\n",
       "BG_PD Other                                               uint8\n",
       "BG_PDS                                                    uint8\n",
       "BG_S&RC                                                   uint8\n",
       "BG_TC                                                     uint8\n",
       "BG_US                                                     uint8\n",
       "BG_Unknown                                                uint8\n",
       "Contract Classification_Contract Renewal                  uint8\n",
       "Contract Classification_Extended Warranty Conversion      uint8\n",
       "Contract Classification_Warranty                          uint8\n",
       "Contract Classification_Warranty Conversion               uint8\n",
       "dtype: object"
      ]
     },
     "execution_count": 258,
     "metadata": {},
     "output_type": "execute_result"
    }
   ],
   "source": [
    "data.dtypes"
   ]
  },
  {
   "cell_type": "markdown",
   "id": "41affbd1",
   "metadata": {},
   "source": [
    "# Random undersampling"
   ]
  },
  {
   "cell_type": "code",
   "execution_count": 259,
   "id": "d37aa845",
   "metadata": {},
   "outputs": [],
   "source": [
    "target_count = data.Renewed.value_counts()"
   ]
  },
  {
   "cell_type": "code",
   "execution_count": 260,
   "id": "37d6b2ed",
   "metadata": {},
   "outputs": [
    {
     "name": "stdout",
     "output_type": "stream",
     "text": [
      "Class 0: 259856\n",
      "Class 1: 42781\n",
      "Proportion: 6.07 : 1\n"
     ]
    },
    {
     "data": {
      "image/png": "[encoded data removed]",
      "text/plain": [
       "<Figure size 432x288 with 1 Axes>"
      ]
     },
     "metadata": {
      "needs_background": "light"
     },
     "output_type": "display_data"
    }
   ],
   "source": [
    "\n",
    "print('Class 0:', target_count[0])\n",
    "print('Class 1:', target_count[1])\n",
    "print('Proportion:', round(target_count[0] / target_count[1], 2), ': 1')\n",
    "\n",
    "target_count.plot(kind='bar', title='Count (target)');"
   ]
  },
  {
   "cell_type": "code",
   "execution_count": 261,
   "id": "c6185df7",
   "metadata": {},
   "outputs": [],
   "source": [
    "df_class_0 = data[data['Renewed'] == 0]\n",
    "df_class_1 = data[data['Renewed'] == 1]"
   ]
  },
  {
   "cell_type": "code",
   "execution_count": 262,
   "id": "6788de18",
   "metadata": {},
   "outputs": [],
   "source": [
    "count_class_0, count_class_1 = data.Renewed.value_counts()"
   ]
  },
  {
   "cell_type": "code",
   "execution_count": 263,
   "id": "2350c129",
   "metadata": {},
   "outputs": [
    {
     "name": "stdout",
     "output_type": "stream",
     "text": [
      "Random under-sampling:\n",
      "0    42781\n",
      "1    42781\n",
      "Name: Renewed, dtype: int64\n"
     ]
    },
    {
     "data": {
      "image/png": "[encoded data removed]",
      "text/plain": [
       "<Figure size 432x288 with 1 Axes>"
      ]
     },
     "metadata": {
      "needs_background": "light"
     },
     "output_type": "display_data"
    }
   ],
   "source": [
    "df_class_0_under = df_class_0.sample(count_class_1)\n",
    "df_test_under = pd.concat([df_class_0_under, df_class_1], axis=0)\n",
    "\n",
    "print('Random under-sampling:')\n",
    "print(df_test_under.Renewed.value_counts())\n",
    "\n",
    "df_test_under.Renewed.value_counts().plot(kind='bar', title='Count (target)');"
   ]
  },
  {
   "cell_type": "code",
   "execution_count": 264,
   "id": "8cd2ad03",
   "metadata": {},
   "outputs": [
    {
     "data": {
      "text/html": [
       "<div>\n",
       "<style scoped>\n",
       "    .dataframe tbody tr th:only-of-type {\n",
       "        vertical-align: middle;\n",
       "    }\n",
       "\n",
       "    .dataframe tbody tr th {\n",
       "        vertical-align: top;\n",
       "    }\n",
       "\n",
       "    .dataframe thead th {\n",
       "        text-align: right;\n",
       "    }\n",
       "</style>\n",
       "<table border=\"1\" class=\"dataframe\">\n",
       "  <thead>\n",
       "    <tr style=\"text-align: right;\">\n",
       "      <th></th>\n",
       "      <th>SoldTo</th>\n",
       "      <th>Tenure</th>\n",
       "      <th>ContractEndYear</th>\n",
       "      <th>TotalContractCount</th>\n",
       "      <th>TotalWarrantyCount</th>\n",
       "      <th>Warranty Conversion Count</th>\n",
       "      <th>Extended Warranty Conversion Count</th>\n",
       "      <th>TotalExtendedWarrantyCount</th>\n",
       "      <th>Renewal Count</th>\n",
       "      <th># Contracts Warranty Converted</th>\n",
       "      <th>...</th>\n",
       "      <th>BG_PD Other</th>\n",
       "      <th>BG_PDS</th>\n",
       "      <th>BG_S&amp;RC</th>\n",
       "      <th>BG_TC</th>\n",
       "      <th>BG_US</th>\n",
       "      <th>BG_Unknown</th>\n",
       "      <th>Contract Classification_Contract Renewal</th>\n",
       "      <th>Contract Classification_Extended Warranty Conversion</th>\n",
       "      <th>Contract Classification_Warranty</th>\n",
       "      <th>Contract Classification_Warranty Conversion</th>\n",
       "    </tr>\n",
       "  </thead>\n",
       "  <tbody>\n",
       "    <tr>\n",
       "      <th>count</th>\n",
       "      <td>8.556200e+04</td>\n",
       "      <td>85562.000000</td>\n",
       "      <td>85562.000000</td>\n",
       "      <td>85562.000000</td>\n",
       "      <td>85562.000000</td>\n",
       "      <td>85562.000000</td>\n",
       "      <td>85562.000000</td>\n",
       "      <td>85562.000000</td>\n",
       "      <td>85562.000000</td>\n",
       "      <td>85562.000000</td>\n",
       "      <td>...</td>\n",
       "      <td>85562.000000</td>\n",
       "      <td>85562.000000</td>\n",
       "      <td>85562.000000</td>\n",
       "      <td>85562.000000</td>\n",
       "      <td>85562.000000</td>\n",
       "      <td>85562.000000</td>\n",
       "      <td>85562.000000</td>\n",
       "      <td>85562.000000</td>\n",
       "      <td>85562.000000</td>\n",
       "      <td>85562.000000</td>\n",
       "    </tr>\n",
       "    <tr>\n",
       "      <th>mean</th>\n",
       "      <td>4.924118e+07</td>\n",
       "      <td>17.261237</td>\n",
       "      <td>2020.634207</td>\n",
       "      <td>0.040848</td>\n",
       "      <td>0.908698</td>\n",
       "      <td>0.458252</td>\n",
       "      <td>0.005236</td>\n",
       "      <td>0.014025</td>\n",
       "      <td>0.036570</td>\n",
       "      <td>0.458252</td>\n",
       "      <td>...</td>\n",
       "      <td>0.000164</td>\n",
       "      <td>0.000222</td>\n",
       "      <td>0.009549</td>\n",
       "      <td>0.091150</td>\n",
       "      <td>0.092518</td>\n",
       "      <td>0.000818</td>\n",
       "      <td>0.034560</td>\n",
       "      <td>0.002115</td>\n",
       "      <td>0.944111</td>\n",
       "      <td>0.019214</td>\n",
       "    </tr>\n",
       "    <tr>\n",
       "      <th>std</th>\n",
       "      <td>4.599841e+07</td>\n",
       "      <td>19.450358</td>\n",
       "      <td>0.481655</td>\n",
       "      <td>0.197938</td>\n",
       "      <td>0.288040</td>\n",
       "      <td>0.498257</td>\n",
       "      <td>0.072171</td>\n",
       "      <td>0.117594</td>\n",
       "      <td>0.187705</td>\n",
       "      <td>0.498257</td>\n",
       "      <td>...</td>\n",
       "      <td>0.012791</td>\n",
       "      <td>0.014900</td>\n",
       "      <td>0.097250</td>\n",
       "      <td>0.287824</td>\n",
       "      <td>0.289757</td>\n",
       "      <td>0.028591</td>\n",
       "      <td>0.182663</td>\n",
       "      <td>0.045945</td>\n",
       "      <td>0.229709</td>\n",
       "      <td>0.137278</td>\n",
       "    </tr>\n",
       "    <tr>\n",
       "      <th>min</th>\n",
       "      <td>1.240230e+05</td>\n",
       "      <td>0.000000</td>\n",
       "      <td>2020.000000</td>\n",
       "      <td>0.000000</td>\n",
       "      <td>0.000000</td>\n",
       "      <td>0.000000</td>\n",
       "      <td>0.000000</td>\n",
       "      <td>0.000000</td>\n",
       "      <td>0.000000</td>\n",
       "      <td>0.000000</td>\n",
       "      <td>...</td>\n",
       "      <td>0.000000</td>\n",
       "      <td>0.000000</td>\n",
       "      <td>0.000000</td>\n",
       "      <td>0.000000</td>\n",
       "      <td>0.000000</td>\n",
       "      <td>0.000000</td>\n",
       "      <td>0.000000</td>\n",
       "      <td>0.000000</td>\n",
       "      <td>0.000000</td>\n",
       "      <td>0.000000</td>\n",
       "    </tr>\n",
       "    <tr>\n",
       "      <th>25%</th>\n",
       "      <td>5.801900e+05</td>\n",
       "      <td>11.000000</td>\n",
       "      <td>2020.000000</td>\n",
       "      <td>0.000000</td>\n",
       "      <td>1.000000</td>\n",
       "      <td>0.000000</td>\n",
       "      <td>0.000000</td>\n",
       "      <td>0.000000</td>\n",
       "      <td>0.000000</td>\n",
       "      <td>0.000000</td>\n",
       "      <td>...</td>\n",
       "      <td>0.000000</td>\n",
       "      <td>0.000000</td>\n",
       "      <td>0.000000</td>\n",
       "      <td>0.000000</td>\n",
       "      <td>0.000000</td>\n",
       "      <td>0.000000</td>\n",
       "      <td>0.000000</td>\n",
       "      <td>0.000000</td>\n",
       "      <td>1.000000</td>\n",
       "      <td>0.000000</td>\n",
       "    </tr>\n",
       "    <tr>\n",
       "      <th>50%</th>\n",
       "      <td>9.400276e+07</td>\n",
       "      <td>11.000000</td>\n",
       "      <td>2021.000000</td>\n",
       "      <td>0.000000</td>\n",
       "      <td>1.000000</td>\n",
       "      <td>0.000000</td>\n",
       "      <td>0.000000</td>\n",
       "      <td>0.000000</td>\n",
       "      <td>0.000000</td>\n",
       "      <td>0.000000</td>\n",
       "      <td>...</td>\n",
       "      <td>0.000000</td>\n",
       "      <td>0.000000</td>\n",
       "      <td>0.000000</td>\n",
       "      <td>0.000000</td>\n",
       "      <td>0.000000</td>\n",
       "      <td>0.000000</td>\n",
       "      <td>0.000000</td>\n",
       "      <td>0.000000</td>\n",
       "      <td>1.000000</td>\n",
       "      <td>0.000000</td>\n",
       "    </tr>\n",
       "    <tr>\n",
       "      <th>75%</th>\n",
       "      <td>9.433071e+07</td>\n",
       "      <td>12.000000</td>\n",
       "      <td>2021.000000</td>\n",
       "      <td>0.000000</td>\n",
       "      <td>1.000000</td>\n",
       "      <td>1.000000</td>\n",
       "      <td>0.000000</td>\n",
       "      <td>0.000000</td>\n",
       "      <td>0.000000</td>\n",
       "      <td>1.000000</td>\n",
       "      <td>...</td>\n",
       "      <td>0.000000</td>\n",
       "      <td>0.000000</td>\n",
       "      <td>0.000000</td>\n",
       "      <td>0.000000</td>\n",
       "      <td>0.000000</td>\n",
       "      <td>0.000000</td>\n",
       "      <td>0.000000</td>\n",
       "      <td>0.000000</td>\n",
       "      <td>1.000000</td>\n",
       "      <td>0.000000</td>\n",
       "    </tr>\n",
       "    <tr>\n",
       "      <th>max</th>\n",
       "      <td>9.466848e+07</td>\n",
       "      <td>158.000000</td>\n",
       "      <td>2021.000000</td>\n",
       "      <td>1.000000</td>\n",
       "      <td>1.000000</td>\n",
       "      <td>1.000000</td>\n",
       "      <td>1.000000</td>\n",
       "      <td>1.000000</td>\n",
       "      <td>1.000000</td>\n",
       "      <td>1.000000</td>\n",
       "      <td>...</td>\n",
       "      <td>1.000000</td>\n",
       "      <td>1.000000</td>\n",
       "      <td>1.000000</td>\n",
       "      <td>1.000000</td>\n",
       "      <td>1.000000</td>\n",
       "      <td>1.000000</td>\n",
       "      <td>1.000000</td>\n",
       "      <td>1.000000</td>\n",
       "      <td>1.000000</td>\n",
       "      <td>1.000000</td>\n",
       "    </tr>\n",
       "  </tbody>\n",
       "</table>\n",
       "<p>8 rows × 54 columns</p>\n",
       "</div>"
      ],
      "text/plain": [
       "             SoldTo        Tenure  ContractEndYear  TotalContractCount  \\\n",
       "count  8.556200e+04  85562.000000     85562.000000        85562.000000   \n",
       "mean   4.924118e+07     17.261237      2020.634207            0.040848   \n",
       "std    4.599841e+07     19.450358         0.481655            0.197938   \n",
       "min    1.240230e+05      0.000000      2020.000000            0.000000   \n",
       "25%    5.801900e+05     11.000000      2020.000000            0.000000   \n",
       "50%    9.400276e+07     11.000000      2021.000000            0.000000   \n",
       "75%    9.433071e+07     12.000000      2021.000000            0.000000   \n",
       "max    9.466848e+07    158.000000      2021.000000            1.000000   \n",
       "\n",
       "       TotalWarrantyCount  Warranty Conversion Count  \\\n",
       "count        85562.000000               85562.000000   \n",
       "mean             0.908698                   0.458252   \n",
       "std              0.288040                   0.498257   \n",
       "min              0.000000                   0.000000   \n",
       "25%              1.000000                   0.000000   \n",
       "50%              1.000000                   0.000000   \n",
       "75%              1.000000                   1.000000   \n",
       "max              1.000000                   1.000000   \n",
       "\n",
       "       Extended Warranty Conversion Count  TotalExtendedWarrantyCount  \\\n",
       "count                        85562.000000                85562.000000   \n",
       "mean                             0.005236                    0.014025   \n",
       "std                              0.072171                    0.117594   \n",
       "min                              0.000000                    0.000000   \n",
       "25%                              0.000000                    0.000000   \n",
       "50%                              0.000000                    0.000000   \n",
       "75%                              0.000000                    0.000000   \n",
       "max                              1.000000                    1.000000   \n",
       "\n",
       "       Renewal Count  # Contracts Warranty Converted  ...   BG_PD Other  \\\n",
       "count   85562.000000                    85562.000000  ...  85562.000000   \n",
       "mean        0.036570                        0.458252  ...      0.000164   \n",
       "std         0.187705                        0.498257  ...      0.012791   \n",
       "min         0.000000                        0.000000  ...      0.000000   \n",
       "25%         0.000000                        0.000000  ...      0.000000   \n",
       "50%         0.000000                        0.000000  ...      0.000000   \n",
       "75%         0.000000                        1.000000  ...      0.000000   \n",
       "max         1.000000                        1.000000  ...      1.000000   \n",
       "\n",
       "             BG_PDS       BG_S&RC         BG_TC         BG_US    BG_Unknown  \\\n",
       "count  85562.000000  85562.000000  85562.000000  85562.000000  85562.000000   \n",
       "mean       0.000222      0.009549      0.091150      0.092518      0.000818   \n",
       "std        0.014900      0.097250      0.287824      0.289757      0.028591   \n",
       "min        0.000000      0.000000      0.000000      0.000000      0.000000   \n",
       "25%        0.000000      0.000000      0.000000      0.000000      0.000000   \n",
       "50%        0.000000      0.000000      0.000000      0.000000      0.000000   \n",
       "75%        0.000000      0.000000      0.000000      0.000000      0.000000   \n",
       "max        1.000000      1.000000      1.000000      1.000000      1.000000   \n",
       "\n",
       "       Contract Classification_Contract Renewal  \\\n",
       "count                              85562.000000   \n",
       "mean                                   0.034560   \n",
       "std                                    0.182663   \n",
       "min                                    0.000000   \n",
       "25%                                    0.000000   \n",
       "50%                                    0.000000   \n",
       "75%                                    0.000000   \n",
       "max                                    1.000000   \n",
       "\n",
       "       Contract Classification_Extended Warranty Conversion  \\\n",
       "count                                       85562.000000      \n",
       "mean                                            0.002115      \n",
       "std                                             0.045945      \n",
       "min                                             0.000000      \n",
       "25%                                             0.000000      \n",
       "50%                                             0.000000      \n",
       "75%                                             0.000000      \n",
       "max                                             1.000000      \n",
       "\n",
       "       Contract Classification_Warranty  \\\n",
       "count                      85562.000000   \n",
       "mean                           0.944111   \n",
       "std                            0.229709   \n",
       "min                            0.000000   \n",
       "25%                            1.000000   \n",
       "50%                            1.000000   \n",
       "75%                            1.000000   \n",
       "max                            1.000000   \n",
       "\n",
       "       Contract Classification_Warranty Conversion  \n",
       "count                                 85562.000000  \n",
       "mean                                      0.019214  \n",
       "std                                       0.137278  \n",
       "min                                       0.000000  \n",
       "25%                                       0.000000  \n",
       "50%                                       0.000000  \n",
       "75%                                       0.000000  \n",
       "max                                       1.000000  \n",
       "\n",
       "[8 rows x 54 columns]"
      ]
     },
     "execution_count": 264,
     "metadata": {},
     "output_type": "execute_result"
    }
   ],
   "source": [
    "df_test_under.describe()"
   ]
  },
  {
   "cell_type": "code",
   "execution_count": 265,
   "id": "114d94b3",
   "metadata": {},
   "outputs": [
    {
     "ename": "ValueError",
     "evalue": "Could not interpret input 'Contract Classification'",
     "output_type": "error",
     "traceback": [
      "\u001b[1;31m---------------------------------------------------------------------------\u001b[0m",
      "\u001b[1;31mValueError\u001b[0m                                Traceback (most recent call last)",
      "\u001b[1;32m<ipython-input-265-ee778f7cb605>\u001b[0m in \u001b[0;36m<module>\u001b[1;34m\u001b[0m\n\u001b[0;32m      1\u001b[0m \u001b[0mplt\u001b[0m\u001b[1;33m.\u001b[0m\u001b[0mfigure\u001b[0m\u001b[1;33m(\u001b[0m\u001b[1;33m)\u001b[0m\u001b[1;33m\u001b[0m\u001b[1;33m\u001b[0m\u001b[0m\n\u001b[1;32m----> 2\u001b[1;33m \u001b[0msns\u001b[0m\u001b[1;33m.\u001b[0m\u001b[0mcountplot\u001b[0m\u001b[1;33m(\u001b[0m\u001b[0mx\u001b[0m\u001b[1;33m=\u001b[0m\u001b[1;34m'Contract Classification'\u001b[0m\u001b[1;33m,\u001b[0m \u001b[0mhue\u001b[0m\u001b[1;33m=\u001b[0m\u001b[1;34m'Renewed'\u001b[0m\u001b[1;33m,\u001b[0m \u001b[0mdata\u001b[0m\u001b[1;33m=\u001b[0m\u001b[0mdf_test_under\u001b[0m\u001b[1;33m)\u001b[0m\u001b[1;33m\u001b[0m\u001b[1;33m\u001b[0m\u001b[0m\n\u001b[0m",
      "\u001b[1;32m~\\Anaconda3\\lib\\site-packages\\seaborn\\_decorators.py\u001b[0m in \u001b[0;36minner_f\u001b[1;34m(*args, **kwargs)\u001b[0m\n\u001b[0;32m     44\u001b[0m             )\n\u001b[0;32m     45\u001b[0m         \u001b[0mkwargs\u001b[0m\u001b[1;33m.\u001b[0m\u001b[0mupdate\u001b[0m\u001b[1;33m(\u001b[0m\u001b[1;33m{\u001b[0m\u001b[0mk\u001b[0m\u001b[1;33m:\u001b[0m \u001b[0marg\u001b[0m \u001b[1;32mfor\u001b[0m \u001b[0mk\u001b[0m\u001b[1;33m,\u001b[0m \u001b[0marg\u001b[0m \u001b[1;32min\u001b[0m \u001b[0mzip\u001b[0m\u001b[1;33m(\u001b[0m\u001b[0msig\u001b[0m\u001b[1;33m.\u001b[0m\u001b[0mparameters\u001b[0m\u001b[1;33m,\u001b[0m \u001b[0margs\u001b[0m\u001b[1;33m)\u001b[0m\u001b[1;33m}\u001b[0m\u001b[1;33m)\u001b[0m\u001b[1;33m\u001b[0m\u001b[1;33m\u001b[0m\u001b[0m\n\u001b[1;32m---> 46\u001b[1;33m         \u001b[1;32mreturn\u001b[0m \u001b[0mf\u001b[0m\u001b[1;33m(\u001b[0m\u001b[1;33m**\u001b[0m\u001b[0mkwargs\u001b[0m\u001b[1;33m)\u001b[0m\u001b[1;33m\u001b[0m\u001b[1;33m\u001b[0m\u001b[0m\n\u001b[0m\u001b[0;32m     47\u001b[0m     \u001b[1;32mreturn\u001b[0m \u001b[0minner_f\u001b[0m\u001b[1;33m\u001b[0m\u001b[1;33m\u001b[0m\u001b[0m\n\u001b[0;32m     48\u001b[0m \u001b[1;33m\u001b[0m\u001b[0m\n",
      "\u001b[1;32m~\\Anaconda3\\lib\\site-packages\\seaborn\\categorical.py\u001b[0m in \u001b[0;36mcountplot\u001b[1;34m(x, y, hue, data, order, hue_order, orient, color, palette, saturation, dodge, ax, **kwargs)\u001b[0m\n\u001b[0;32m   3593\u001b[0m         \u001b[1;32mraise\u001b[0m \u001b[0mValueError\u001b[0m\u001b[1;33m(\u001b[0m\u001b[1;34m\"Cannot pass values for both `x` and `y`\"\u001b[0m\u001b[1;33m)\u001b[0m\u001b[1;33m\u001b[0m\u001b[1;33m\u001b[0m\u001b[0m\n\u001b[0;32m   3594\u001b[0m \u001b[1;33m\u001b[0m\u001b[0m\n\u001b[1;32m-> 3595\u001b[1;33m     plotter = _CountPlotter(\n\u001b[0m\u001b[0;32m   3596\u001b[0m         \u001b[0mx\u001b[0m\u001b[1;33m,\u001b[0m \u001b[0my\u001b[0m\u001b[1;33m,\u001b[0m \u001b[0mhue\u001b[0m\u001b[1;33m,\u001b[0m \u001b[0mdata\u001b[0m\u001b[1;33m,\u001b[0m \u001b[0morder\u001b[0m\u001b[1;33m,\u001b[0m \u001b[0mhue_order\u001b[0m\u001b[1;33m,\u001b[0m\u001b[1;33m\u001b[0m\u001b[1;33m\u001b[0m\u001b[0m\n\u001b[0;32m   3597\u001b[0m         \u001b[0mestimator\u001b[0m\u001b[1;33m,\u001b[0m \u001b[0mci\u001b[0m\u001b[1;33m,\u001b[0m \u001b[0mn_boot\u001b[0m\u001b[1;33m,\u001b[0m \u001b[0munits\u001b[0m\u001b[1;33m,\u001b[0m \u001b[0mseed\u001b[0m\u001b[1;33m,\u001b[0m\u001b[1;33m\u001b[0m\u001b[1;33m\u001b[0m\u001b[0m\n",
      "\u001b[1;32m~\\Anaconda3\\lib\\site-packages\\seaborn\\categorical.py\u001b[0m in \u001b[0;36m__init__\u001b[1;34m(self, x, y, hue, data, order, hue_order, estimator, ci, n_boot, units, seed, orient, color, palette, saturation, errcolor, errwidth, capsize, dodge)\u001b[0m\n\u001b[0;32m   1582\u001b[0m                  errwidth, capsize, dodge):\n\u001b[0;32m   1583\u001b[0m         \u001b[1;34m\"\"\"Initialize the plotter.\"\"\"\u001b[0m\u001b[1;33m\u001b[0m\u001b[1;33m\u001b[0m\u001b[0m\n\u001b[1;32m-> 1584\u001b[1;33m         self.establish_variables(x, y, hue, data, orient,\n\u001b[0m\u001b[0;32m   1585\u001b[0m                                  order, hue_order, units)\n\u001b[0;32m   1586\u001b[0m         \u001b[0mself\u001b[0m\u001b[1;33m.\u001b[0m\u001b[0mestablish_colors\u001b[0m\u001b[1;33m(\u001b[0m\u001b[0mcolor\u001b[0m\u001b[1;33m,\u001b[0m \u001b[0mpalette\u001b[0m\u001b[1;33m,\u001b[0m \u001b[0msaturation\u001b[0m\u001b[1;33m)\u001b[0m\u001b[1;33m\u001b[0m\u001b[1;33m\u001b[0m\u001b[0m\n",
      "\u001b[1;32m~\\Anaconda3\\lib\\site-packages\\seaborn\\categorical.py\u001b[0m in \u001b[0;36mestablish_variables\u001b[1;34m(self, x, y, hue, data, orient, order, hue_order, units)\u001b[0m\n\u001b[0;32m    151\u001b[0m                 \u001b[1;32mif\u001b[0m \u001b[0misinstance\u001b[0m\u001b[1;33m(\u001b[0m\u001b[0mvar\u001b[0m\u001b[1;33m,\u001b[0m \u001b[0mstr\u001b[0m\u001b[1;33m)\u001b[0m\u001b[1;33m:\u001b[0m\u001b[1;33m\u001b[0m\u001b[1;33m\u001b[0m\u001b[0m\n\u001b[0;32m    152\u001b[0m                     \u001b[0merr\u001b[0m \u001b[1;33m=\u001b[0m \u001b[1;34m\"Could not interpret input '{}'\"\u001b[0m\u001b[1;33m.\u001b[0m\u001b[0mformat\u001b[0m\u001b[1;33m(\u001b[0m\u001b[0mvar\u001b[0m\u001b[1;33m)\u001b[0m\u001b[1;33m\u001b[0m\u001b[1;33m\u001b[0m\u001b[0m\n\u001b[1;32m--> 153\u001b[1;33m                     \u001b[1;32mraise\u001b[0m \u001b[0mValueError\u001b[0m\u001b[1;33m(\u001b[0m\u001b[0merr\u001b[0m\u001b[1;33m)\u001b[0m\u001b[1;33m\u001b[0m\u001b[1;33m\u001b[0m\u001b[0m\n\u001b[0m\u001b[0;32m    154\u001b[0m \u001b[1;33m\u001b[0m\u001b[0m\n\u001b[0;32m    155\u001b[0m             \u001b[1;31m# Figure out the plotting orientation\u001b[0m\u001b[1;33m\u001b[0m\u001b[1;33m\u001b[0m\u001b[1;33m\u001b[0m\u001b[0m\n",
      "\u001b[1;31mValueError\u001b[0m: Could not interpret input 'Contract Classification'"
     ]
    },
    {
     "data": {
      "text/plain": [
       "<Figure size 432x288 with 0 Axes>"
      ]
     },
     "metadata": {},
     "output_type": "display_data"
    }
   ],
   "source": [
    "plt.figure()\n",
    "sns.countplot(x='Contract Classification', hue='Renewed', data=df_test_under)"
   ]
  },
  {
   "cell_type": "code",
   "execution_count": null,
   "id": "8e18857f",
   "metadata": {},
   "outputs": [],
   "source": [
    "plt.figure()\n",
    "sns.countplot(x='ContractYear', hue='Renewed', data=df_test_under)"
   ]
  },
  {
   "cell_type": "code",
   "execution_count": null,
   "id": "0091b510",
   "metadata": {},
   "outputs": [],
   "source": [
    "plt.figure()\n",
    "sns.countplot(x='BG', hue='Renewed', data=df_test_under)"
   ]
  },
  {
   "cell_type": "code",
   "execution_count": null,
   "id": "c509803c",
   "metadata": {},
   "outputs": [],
   "source": [
    "for col in df_test_under.select_dtypes('object'):\n",
    "    plt.figure()\n",
    "    sns.heatmap(pd.crosstab(data['Renewed'], data[col]), fmt='d')"
   ]
  },
  {
   "cell_type": "markdown",
   "id": "bdc4f49a",
   "metadata": {},
   "source": [
    "# Split dataset between train and test "
   ]
  },
  {
   "cell_type": "code",
   "execution_count": null,
   "id": "ec23a474",
   "metadata": {},
   "outputs": [],
   "source": [
    "df = df_test_under.copy()"
   ]
  },
  {
   "cell_type": "code",
   "execution_count": null,
   "id": "be86a363",
   "metadata": {},
   "outputs": [],
   "source": [
    "from sklearn.model_selection import train_test_split"
   ]
  },
  {
   "cell_type": "code",
   "execution_count": null,
   "id": "05b36a29",
   "metadata": {},
   "outputs": [],
   "source": [
    "trainset, testset = train_test_split(df, test_size=0.2, random_state=0)"
   ]
  },
  {
   "cell_type": "code",
   "execution_count": null,
   "id": "0bdc4e9c",
   "metadata": {},
   "outputs": [],
   "source": [
    "trainset['Renewed'].value_counts(normalize=True)"
   ]
  },
  {
   "cell_type": "code",
   "execution_count": null,
   "id": "b8704d21",
   "metadata": {},
   "outputs": [],
   "source": [
    "testset['Renewed'].value_counts(normalize=True)"
   ]
  },
  {
   "cell_type": "code",
   "execution_count": null,
   "id": "cbc88b81",
   "metadata": {},
   "outputs": [],
   "source": [
    "def preprocessing(trainset):\n",
    "    \n",
    "    X = trainset.drop('Renewed',axis=1)\n",
    "    y = trainset['Renewed']\n",
    "    \n",
    "    print(y.value_counts())\n",
    "    \n",
    "    return X,y"
   ]
  },
  {
   "cell_type": "code",
   "execution_count": null,
   "id": "656604d7",
   "metadata": {},
   "outputs": [],
   "source": [
    "X_train, y_train = preprocessing(trainset)"
   ]
  },
  {
   "cell_type": "code",
   "execution_count": null,
   "id": "f50f4e95",
   "metadata": {},
   "outputs": [],
   "source": [
    "X_test, y_test = preprocessing(testset)"
   ]
  },
  {
   "cell_type": "code",
   "execution_count": null,
   "id": "1c1c28d1",
   "metadata": {},
   "outputs": [],
   "source": [
    "preprocessor = make_pipeline(SelectKBest(f_classif,k=8))"
   ]
  },
  {
   "cell_type": "code",
   "execution_count": null,
   "id": "99bb5df5",
   "metadata": {},
   "outputs": [],
   "source": [
    "DecisionTree = make_pipeline(preprocessor,DecisionTreeClassifier(random_state=0))\n",
    "RandomForest = make_pipeline(preprocessor, RandomForestClassifier(random_state=0))\n",
    "LR = make_pipeline(preprocessor,LogisticRegression(random_state=0))\n",
    "AdaBoost = make_pipeline(preprocessor, AdaBoostClassifier(random_state=0))\n",
    "SVM = make_pipeline(preprocessor,StandardScaler(), SVC(random_state=0))\n",
    "KNN = make_pipeline(preprocessor,StandardScaler(), KNeighborsClassifier())"
   ]
  },
  {
   "cell_type": "code",
   "execution_count": null,
   "id": "e46972da",
   "metadata": {},
   "outputs": [],
   "source": [
    "LR.fit(X=X_train, y=y_train)\n"
   ]
  },
  {
   "cell_type": "code",
   "execution_count": null,
   "id": "bcdb175c",
   "metadata": {},
   "outputs": [],
   "source": [
    "ypred = LR.predict(X_test)\n",
    "print(confusion_matrix(y_test,ypred))\n",
    "print(classification_report(y_test,ypred))"
   ]
  },
  {
   "cell_type": "code",
   "execution_count": 266,
   "id": "3270411e",
   "metadata": {},
   "outputs": [
    {
     "name": "stderr",
     "output_type": "stream",
     "text": [
      "C:\\Users\\320118090\\Anaconda3\\lib\\site-packages\\sklearn\\feature_selection\\_univariate_selection.py:114: UserWarning: Features [18 38] are constant.\n",
      "  warnings.warn(\"Features %s are constant.\" % constant_features_idx,\n",
      "C:\\Users\\320118090\\Anaconda3\\lib\\site-packages\\sklearn\\feature_selection\\_univariate_selection.py:116: RuntimeWarning: invalid value encountered in true_divide\n",
      "  f = msb / msw\n"
     ]
    },
    {
     "data": {
      "text/plain": [
       "Pipeline(steps=[('pipeline',\n",
       "                 Pipeline(steps=[('selectkbest', SelectKBest(k=8))])),\n",
       "                ('standardscaler', StandardScaler()),\n",
       "                ('kneighborsclassifier', KNeighborsClassifier())])"
      ]
     },
     "execution_count": 266,
     "metadata": {},
     "output_type": "execute_result"
    }
   ],
   "source": [
    "KNN.fit(X=X_train, y=y_train)"
   ]
  },
  {
   "cell_type": "code",
   "execution_count": 217,
   "id": "b4654f3c",
   "metadata": {},
   "outputs": [
    {
     "name": "stdout",
     "output_type": "stream",
     "text": [
      "[[8387    0]\n",
      " [ 101 8625]]\n",
      "              precision    recall  f1-score   support\n",
      "\n",
      "           0       0.99      1.00      0.99      8387\n",
      "           1       1.00      0.99      0.99      8726\n",
      "\n",
      "    accuracy                           0.99     17113\n",
      "   macro avg       0.99      0.99      0.99     17113\n",
      "weighted avg       0.99      0.99      0.99     17113\n",
      "\n"
     ]
    }
   ],
   "source": [
    "ypred1 = KNN.predict(X_test)\n",
    "print(confusion_matrix(y_test,ypred))\n",
    "print(classification_report(y_test,ypred))"
   ]
  }
 ],
 "metadata": {
  "kernelspec": {
   "display_name": "Python 3",
   "language": "python",
   "name": "python3"
  },
  "language_info": {
   "codemirror_mode": {
    "name": "ipython",
    "version": 3
   },
   "file_extension": ".py",
   "mimetype": "text/x-python",
   "name": "python",
   "nbconvert_exporter": "python",
   "pygments_lexer": "ipython3",
   "version": "3.8.8"
  }
 },
 "nbformat": 4,
 "nbformat_minor": 5
}
